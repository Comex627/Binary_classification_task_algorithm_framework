{
 "cells": [
  {
   "cell_type": "code",
   "execution_count": 17,
   "metadata": {},
   "outputs": [],
   "source": [
    "import numpy as np \n",
    "import pandas as pd \n",
    "import lightgbm as lgb\n",
    "from sklearn.model_selection import StratifiedKFold\n",
    "from sklearn.metrics import roc_auc_score, f1_score, precision_score, recall_score, roc_curve\n",
    "import warnings\n",
    "from sklearn.preprocessing import LabelEncoder\n",
    "import gc\n",
    "import os\n",
    "import time\n",
    "import pickle\n",
    "import matplotlib.pyplot as plt\n",
    "import seaborn as sns\n",
    "import features_selection as fs\n",
    "import xgboost as xgb\n",
    "\n",
    "# 设置中文字体，解决乱码问题\n",
    "plt.rcParams[\"font.family\"] = [\"SimHei\", \"WenQuanYi Micro Hei\", \"Heiti TC\"]\n",
    "sns.set(font='SimHei', font_scale=0.8)\n",
    "warnings.filterwarnings('ignore')"
   ]
  },
  {
   "cell_type": "code",
   "execution_count": 18,
   "metadata": {},
   "outputs": [],
   "source": [
    "train = pd.read_csv('../data/train.csv')\n",
    "label = pd.read_csv('../data/train_label.csv')\n",
    "test = pd.read_csv('../data/test.csv')\n",
    "sub = pd.read_csv('../data/submission.csv')"
   ]
  },
  {
   "cell_type": "code",
   "execution_count": 19,
   "metadata": {},
   "outputs": [],
   "source": [
    "train_x,train_y,test_x,features  = fs.process_features(train, test, label)"
   ]
  },
  {
   "cell_type": "code",
   "execution_count": 20,
   "metadata": {},
   "outputs": [],
   "source": [
    "\n",
    "# 设置随机种子，保证结果可复现\n",
    "np.random.seed(42)\n",
    "\n",
    "# 假设train_x（DataFrame或数组）和train_y（Series或数组）是已有的训练数据\n",
    "# 请确保在实际使用时已经正确加载了这两个变量\n",
    "\n",
    "# 确保train_y是一维数组\n",
    "if isinstance(train_y, pd.Series):\n",
    "    train_y = train_y.values\n",
    "\n",
    "# 获取特征数量和特征名称\n",
    "if isinstance(train_x, pd.DataFrame):\n",
    "    n_features = train_x.shape[1]\n",
    "    feature_names = train_x.columns.tolist()\n",
    "else:\n",
    "    n_features = train_x.shape[1]\n",
    "    feature_names = [f'特征{i+1}' for i in range(n_features)]\n"
   ]
  },
  {
   "cell_type": "markdown",
   "metadata": {},
   "source": [
    "# 1.基于lgb的stacking"
   ]
  },
  {
   "cell_type": "code",
   "execution_count": 21,
   "metadata": {},
   "outputs": [],
   "source": [
    "def predict_with_model(model_path, X):\n",
    "    \"\"\"\n",
    "    使用保存的stacking模型进行预测\n",
    "    \n",
    "    model_path: 模型pkl文件路径\n",
    "    X: 待预测的特征数据（DataFrame或数组）\n",
    "    \n",
    "    返回:\n",
    "    预测概率\n",
    "    \"\"\"\n",
    "    # 加载模型\n",
    "    with open(model_path, 'rb') as f:\n",
    "        stacking_model = pickle.load(f)\n",
    "    \n",
    "    base_models = stacking_model['base_models']\n",
    "    meta_model = stacking_model['meta_model']\n",
    "    \n",
    "    # 生成元特征\n",
    "    meta_features = np.zeros((X.shape[0], len(base_models)))\n",
    "    for i, model in enumerate(base_models):\n",
    "        meta_features[:, i] = model.predict(X, num_iteration=model.best_iteration)\n",
    "    \n",
    "    # 元模型预测\n",
    "    predictions = meta_model.predict(meta_features, num_iteration=meta_model.best_iteration)\n",
    "    print('预测成功！')\n",
    "    \n",
    "    return predictions\n",
    "\n"
   ]
  },
  {
   "cell_type": "code",
   "execution_count": 22,
   "metadata": {},
   "outputs": [
    {
     "name": "stdout",
     "output_type": "stream",
     "text": [
      "预测成功！\n"
     ]
    }
   ],
   "source": [
    "pre1 = predict_with_model('./models/stacking_model_with_params.pkl', test_x)\n",
    "sub['stacking_by_lgb'] = pre1"
   ]
  },
  {
   "cell_type": "markdown",
   "metadata": {},
   "source": [
    "# 2.基于lgb和xgb的stacking"
   ]
  },
  {
   "cell_type": "code",
   "execution_count": 23,
   "metadata": {},
   "outputs": [],
   "source": [
    "def predict_with_model(model_path, X):\n",
    "    \"\"\"使用保存的stacking模型进行预测\"\"\"\n",
    "    # 加载模型\n",
    "    with open(model_path, 'rb') as f:\n",
    "        stacking_model = pickle.load(f)\n",
    "    \n",
    "    base_models = stacking_model['base_models']\n",
    "    meta_model = stacking_model['meta_model']\n",
    "    \n",
    "    # 生成元特征\n",
    "    meta_features = np.zeros((X.shape[0], len(base_models)))\n",
    "    for i, model_info in enumerate(base_models):\n",
    "        model = model_info['model']\n",
    "        model_type = model_info['type']\n",
    "        \n",
    "        if model_type == 'lgb':\n",
    "            meta_features[:, i] = model.predict(X, num_iteration=model.best_iteration)\n",
    "        elif model_type == 'xgb':\n",
    "            dmatrix = xgb.DMatrix(X)\n",
    "            meta_features[:, i] = model.predict(dmatrix, ntree_limit=model.best_iteration)\n",
    "    \n",
    "    # 元模型预测\n",
    "    predictions = meta_model.predict(meta_features, num_iteration=meta_model.best_iteration)\n",
    "    print('预测成功！')\n",
    "    \n",
    "    return predictions"
   ]
  },
  {
   "cell_type": "code",
   "execution_count": 24,
   "metadata": {},
   "outputs": [
    {
     "name": "stdout",
     "output_type": "stream",
     "text": [
      "预测成功！\n"
     ]
    }
   ],
   "source": [
    "pre2 = predict_with_model('./models/stacking_model_mixed.pkl', test_x)\n",
    "sub['stacking_by_lgb_and_xgb'] = pre2"
   ]
  },
  {
   "cell_type": "markdown",
   "metadata": {},
   "source": [
    "# 3.基于lgb的十折交叉验证"
   ]
  },
  {
   "cell_type": "code",
   "execution_count": 25,
   "metadata": {},
   "outputs": [],
   "source": [
    "# 加载模型并对测试集进行预测\n",
    "def load_model_and_predict(model_path, test_data):\n",
    "    \"\"\"\n",
    "    加载保存的模型并对测试集进行预测\n",
    "    \n",
    "    参数:\n",
    "    model_path: 模型保存路径\n",
    "    test_data: 测试数据集（包含特征列）\n",
    "    features: 特征列名列表\n",
    "    \n",
    "    返回:\n",
    "    测试集预测概率\n",
    "    \"\"\"\n",
    "    # 加载模型\n",
    "    try:\n",
    "        with open(model_path, 'rb') as f:\n",
    "            model = pickle.load(f)\n",
    "        print(f\"模型加载成功: {model_path}\")\n",
    "    except Exception as e:\n",
    "        print(f\"模型加载失败: {str(e)}\")\n",
    "        return None\n",
    "\n",
    "    # 进行预测\n",
    "    test_pred = model.predict(test_x, num_iteration=model.best_iteration)\n",
    "    print('预测成功！')\n",
    "    \n",
    "    return test_pred"
   ]
  },
  {
   "cell_type": "code",
   "execution_count": 26,
   "metadata": {},
   "outputs": [
    {
     "name": "stdout",
     "output_type": "stream",
     "text": [
      "模型加载成功: ./models/lgb_10fold_model.pkl\n",
      "预测成功！\n"
     ]
    }
   ],
   "source": [
    "# 加载模型并预测\n",
    "model_path = './models/lgb_10fold_model.pkl'  # 模型保存路径\n",
    "pre3 = load_model_and_predict(model_path, test_x)\n",
    "    \n",
    "\n",
    "sub['lgb_10fold_pred'] = pre3"
   ]
  },
  {
   "cell_type": "markdown",
   "metadata": {},
   "source": [
    "# 4.基于xgb的十折交叉验证"
   ]
  },
  {
   "cell_type": "code",
   "execution_count": 27,
   "metadata": {},
   "outputs": [],
   "source": [
    "# 加载模型并对测试集进行预测\n",
    "def load_model_and_predict(model_path, test_data):\n",
    "    \"\"\"\n",
    "    加载保存的模型并对测试集进行预测\n",
    "    \n",
    "    参数:\n",
    "    model_path: 模型保存路径\n",
    "    test_data: 测试数据集（包含特征列）\n",
    "    features: 特征列名列表\n",
    "    \n",
    "    返回:\n",
    "    测试集预测概率\n",
    "    \"\"\"\n",
    "    # 加载模型\n",
    "    try:\n",
    "        with open(model_path, 'rb') as f:\n",
    "            model = pickle.load(f)\n",
    "        print(f\"模型加载成功: {model_path}\")\n",
    "    except Exception as e:\n",
    "        print(f\"模型加载失败: {str(e)}\")\n",
    "        return None\n",
    "    \n",
    "    dtest = xgb.DMatrix(test_data)\n",
    "    \n",
    "    # 进行预测\n",
    "    \n",
    "    test_pred = model.predict(dtest, ntree_limit=model.best_ntree_limit)\n",
    "    print('预测成功！')\n",
    "    return test_pred"
   ]
  },
  {
   "cell_type": "code",
   "execution_count": 28,
   "metadata": {},
   "outputs": [
    {
     "name": "stdout",
     "output_type": "stream",
     "text": [
      "模型加载成功: ./models/xgb_10fold_model.pkl\n",
      "预测成功！\n"
     ]
    }
   ],
   "source": [
    "# 加载模型并预测\n",
    "model_path = './models/xgb_10fold_model.pkl'  # 模型保存路径\n",
    "pre4 = load_model_and_predict(model_path, test_x)\n",
    "    \n",
    "sub['xgb_10fold_pred'] = pre4\n",
    "    "
   ]
  },
  {
   "cell_type": "code",
   "execution_count": 29,
   "metadata": {},
   "outputs": [
    {
     "data": {
      "text/html": [
       "<div>\n",
       "<style scoped>\n",
       "    .dataframe tbody tr th:only-of-type {\n",
       "        vertical-align: middle;\n",
       "    }\n",
       "\n",
       "    .dataframe tbody tr th {\n",
       "        vertical-align: top;\n",
       "    }\n",
       "\n",
       "    .dataframe thead th {\n",
       "        text-align: right;\n",
       "    }\n",
       "</style>\n",
       "<table border=\"1\" class=\"dataframe\">\n",
       "  <thead>\n",
       "    <tr style=\"text-align: right;\">\n",
       "      <th></th>\n",
       "      <th>ID</th>\n",
       "      <th>label</th>\n",
       "      <th>stacking_by_lgb</th>\n",
       "      <th>stacking_by_lgb_and_xgb</th>\n",
       "      <th>lgb_10fold_pred</th>\n",
       "      <th>xgb_10fold_pred</th>\n",
       "    </tr>\n",
       "  </thead>\n",
       "  <tbody>\n",
       "    <tr>\n",
       "      <th>0</th>\n",
       "      <td>1</td>\n",
       "      <td>0.1</td>\n",
       "      <td>0.591386</td>\n",
       "      <td>0.067679</td>\n",
       "      <td>0.255563</td>\n",
       "      <td>0.106641</td>\n",
       "    </tr>\n",
       "    <tr>\n",
       "      <th>1</th>\n",
       "      <td>4</td>\n",
       "      <td>0.1</td>\n",
       "      <td>0.129605</td>\n",
       "      <td>0.302932</td>\n",
       "      <td>0.184471</td>\n",
       "      <td>0.277002</td>\n",
       "    </tr>\n",
       "    <tr>\n",
       "      <th>2</th>\n",
       "      <td>6</td>\n",
       "      <td>0.1</td>\n",
       "      <td>0.352608</td>\n",
       "      <td>0.239900</td>\n",
       "      <td>0.257298</td>\n",
       "      <td>0.250648</td>\n",
       "    </tr>\n",
       "    <tr>\n",
       "      <th>3</th>\n",
       "      <td>8</td>\n",
       "      <td>0.1</td>\n",
       "      <td>0.181499</td>\n",
       "      <td>0.547579</td>\n",
       "      <td>0.326018</td>\n",
       "      <td>0.262511</td>\n",
       "    </tr>\n",
       "    <tr>\n",
       "      <th>4</th>\n",
       "      <td>10</td>\n",
       "      <td>0.1</td>\n",
       "      <td>0.460039</td>\n",
       "      <td>0.245512</td>\n",
       "      <td>0.235715</td>\n",
       "      <td>0.257917</td>\n",
       "    </tr>\n",
       "  </tbody>\n",
       "</table>\n",
       "</div>"
      ],
      "text/plain": [
       "   ID  label  stacking_by_lgb  stacking_by_lgb_and_xgb  lgb_10fold_pred  \\\n",
       "0   1    0.1         0.591386                 0.067679         0.255563   \n",
       "1   4    0.1         0.129605                 0.302932         0.184471   \n",
       "2   6    0.1         0.352608                 0.239900         0.257298   \n",
       "3   8    0.1         0.181499                 0.547579         0.326018   \n",
       "4  10    0.1         0.460039                 0.245512         0.235715   \n",
       "\n",
       "   xgb_10fold_pred  \n",
       "0         0.106641  \n",
       "1         0.277002  \n",
       "2         0.250648  \n",
       "3         0.262511  \n",
       "4         0.257917  "
      ]
     },
     "execution_count": 29,
     "metadata": {},
     "output_type": "execute_result"
    }
   ],
   "source": [
    "sub.head()"
   ]
  },
  {
   "cell_type": "markdown",
   "metadata": {},
   "source": [
    "# 5.基于lgb和xgb的stacking （元模型逻辑回归）"
   ]
  },
  {
   "cell_type": "code",
   "execution_count": 30,
   "metadata": {},
   "outputs": [],
   "source": [
    "# 预测函数\n",
    "def predict_with_model(model_path, X):\n",
    "    with open(model_path, 'rb') as f:\n",
    "        stacking_model = pickle.load(f)\n",
    "    \n",
    "    base_models = stacking_model['base_models']\n",
    "    meta_model = stacking_model['meta_model']\n",
    "    scaler = stacking_model['scaler']  # 加载标准化器\n",
    "    \n",
    "    meta_features = np.zeros((X.shape[0], len(base_models)))\n",
    "    for i, model_info in enumerate(base_models):\n",
    "        model = model_info['model']\n",
    "        model_type = model_info['type']\n",
    "        \n",
    "        if model_type == 'lgb':\n",
    "            meta_features[:, i] = model.predict(X, num_iteration=model.best_iteration)\n",
    "        elif model_type == 'xgb':\n",
    "            dmatrix = xgb.DMatrix(X)\n",
    "            meta_features[:, i] = model.predict(dmatrix, ntree_limit=model.best_iteration)\n",
    "    \n",
    "    # 逻辑回归预测（标准化元特征）\n",
    "    meta_features_scaled = scaler.transform(meta_features)\n",
    "    predictions = meta_model.predict_proba(meta_features_scaled)[:, 1]  # 取正例概率\n",
    "    \n",
    "    return predictions\n",
    "\n",
    "# def predict_with_model(model_path, X):\n",
    "#     with open(model_path, 'rb') as f:\n",
    "#         stacking_model = pickle.load(f)\n",
    "    \n",
    "#     base_models = stacking_model['base_models']\n",
    "#     meta_model = stacking_model['meta_model']\n",
    "#     scaler = stacking_model['scaler']  # 加载标准化器\n",
    "    \n",
    "#     # 生成元特征\n",
    "#     meta_features = np.zeros((X.shape[0], len(base_models)))\n",
    "#     for i, model_info in enumerate(base_models):\n",
    "#         model = model_info['model']\n",
    "#         model_type = model_info['type']\n",
    "        \n",
    "#         if model_type == 'lgb':\n",
    "#             meta_features[:, i] = model.predict(X, num_iteration=model.best_iteration)\n",
    "#         elif model_type == 'xgb':\n",
    "#             dmatrix = xgb.DMatrix(X)\n",
    "#             meta_features[:, i] = model.predict(dmatrix, ntree_limit=model.best_iteration)\n",
    "    \n",
    "#     # 检查scaler是否已拟合，若未拟合则用当前元特征拟合（仅建议临时使用）\n",
    "#     # 更好的做法是确保保存模型时scaler已用训练数据拟合\n",
    "#     if not hasattr(scaler, 'n_features_in_'):\n",
    "#         print(\"警告：scaler未找到拟合信息，正在使用当前数据拟合...\")\n",
    "#         scaler.fit(meta_features)\n",
    "    \n",
    "#     # 逻辑回归预测（标准化元特征）\n",
    "#     meta_features_scaled = scaler.transform(meta_features)\n",
    "#     predictions = meta_model.predict_proba(meta_features_scaled)[:, 1]  # 取正例概率\n",
    "    \n",
    "#     return predictions\n"
   ]
  },
  {
   "cell_type": "code",
   "execution_count": 31,
   "metadata": {},
   "outputs": [],
   "source": [
    "# 执行预测\n",
    "pred5 = predict_with_model('./models/stacking_model_logistic.pkl', test_x)\n",
    "sub['stacking_by_lgb_and_xgb_logistic'] =pred5"
   ]
  },
  {
   "cell_type": "code",
   "execution_count": null,
   "metadata": {},
   "outputs": [],
   "source": []
  },
  {
   "cell_type": "code",
   "execution_count": 32,
   "metadata": {},
   "outputs": [
    {
     "data": {
      "text/html": [
       "<div>\n",
       "<style scoped>\n",
       "    .dataframe tbody tr th:only-of-type {\n",
       "        vertical-align: middle;\n",
       "    }\n",
       "\n",
       "    .dataframe tbody tr th {\n",
       "        vertical-align: top;\n",
       "    }\n",
       "\n",
       "    .dataframe thead th {\n",
       "        text-align: right;\n",
       "    }\n",
       "</style>\n",
       "<table border=\"1\" class=\"dataframe\">\n",
       "  <thead>\n",
       "    <tr style=\"text-align: right;\">\n",
       "      <th></th>\n",
       "      <th>ID</th>\n",
       "      <th>label</th>\n",
       "      <th>stacking_by_lgb</th>\n",
       "      <th>stacking_by_lgb_and_xgb</th>\n",
       "      <th>lgb_10fold_pred</th>\n",
       "      <th>xgb_10fold_pred</th>\n",
       "      <th>stacking_by_lgb_and_xgb_logistic</th>\n",
       "    </tr>\n",
       "  </thead>\n",
       "  <tbody>\n",
       "    <tr>\n",
       "      <th>0</th>\n",
       "      <td>1</td>\n",
       "      <td>0.1</td>\n",
       "      <td>0.591386</td>\n",
       "      <td>0.067679</td>\n",
       "      <td>0.255563</td>\n",
       "      <td>0.106641</td>\n",
       "      <td>0.214623</td>\n",
       "    </tr>\n",
       "    <tr>\n",
       "      <th>1</th>\n",
       "      <td>4</td>\n",
       "      <td>0.1</td>\n",
       "      <td>0.129605</td>\n",
       "      <td>0.302932</td>\n",
       "      <td>0.184471</td>\n",
       "      <td>0.277002</td>\n",
       "      <td>0.052701</td>\n",
       "    </tr>\n",
       "    <tr>\n",
       "      <th>2</th>\n",
       "      <td>6</td>\n",
       "      <td>0.1</td>\n",
       "      <td>0.352608</td>\n",
       "      <td>0.239900</td>\n",
       "      <td>0.257298</td>\n",
       "      <td>0.250648</td>\n",
       "      <td>0.430809</td>\n",
       "    </tr>\n",
       "    <tr>\n",
       "      <th>3</th>\n",
       "      <td>8</td>\n",
       "      <td>0.1</td>\n",
       "      <td>0.181499</td>\n",
       "      <td>0.547579</td>\n",
       "      <td>0.326018</td>\n",
       "      <td>0.262511</td>\n",
       "      <td>0.023174</td>\n",
       "    </tr>\n",
       "    <tr>\n",
       "      <th>4</th>\n",
       "      <td>10</td>\n",
       "      <td>0.1</td>\n",
       "      <td>0.460039</td>\n",
       "      <td>0.245512</td>\n",
       "      <td>0.235715</td>\n",
       "      <td>0.257917</td>\n",
       "      <td>0.301299</td>\n",
       "    </tr>\n",
       "  </tbody>\n",
       "</table>\n",
       "</div>"
      ],
      "text/plain": [
       "   ID  label  stacking_by_lgb  stacking_by_lgb_and_xgb  lgb_10fold_pred  \\\n",
       "0   1    0.1         0.591386                 0.067679         0.255563   \n",
       "1   4    0.1         0.129605                 0.302932         0.184471   \n",
       "2   6    0.1         0.352608                 0.239900         0.257298   \n",
       "3   8    0.1         0.181499                 0.547579         0.326018   \n",
       "4  10    0.1         0.460039                 0.245512         0.235715   \n",
       "\n",
       "   xgb_10fold_pred  stacking_by_lgb_and_xgb_logistic  \n",
       "0         0.106641                          0.214623  \n",
       "1         0.277002                          0.052701  \n",
       "2         0.250648                          0.430809  \n",
       "3         0.262511                          0.023174  \n",
       "4         0.257917                          0.301299  "
      ]
     },
     "execution_count": 32,
     "metadata": {},
     "output_type": "execute_result"
    }
   ],
   "source": [
    "sub.head()"
   ]
  },
  {
   "cell_type": "code",
   "execution_count": null,
   "metadata": {},
   "outputs": [],
   "source": []
  },
  {
   "cell_type": "markdown",
   "metadata": {},
   "source": [
    "# 6.基于lgb的voting"
   ]
  },
  {
   "cell_type": "code",
   "execution_count": 33,
   "metadata": {},
   "outputs": [],
   "source": [
    "# 投票预测函数\n",
    "def voting_predict(models, X, voting_type='soft'):\n",
    "    \"\"\"\n",
    "    投票预测\n",
    "    voting_type: 'soft'为概率加权平均, 'hard'为多数表决\n",
    "    \"\"\"\n",
    "    # 转换X为DMatrix（如果是XGBoost需要）\n",
    "    xgb_X = xgb.DMatrix(X) if isinstance(X, pd.DataFrame) else xgb.DMatrix(X.values)\n",
    "    \n",
    "    if voting_type == 'hard':\n",
    "        # 硬投票：取多数类\n",
    "        predictions = []\n",
    "        for model_info in models:\n",
    "            model = model_info['model']\n",
    "            model_type = model_info['type']\n",
    "            \n",
    "            if model_type == 'lgb':\n",
    "                pred_proba = model.predict(X, num_iteration=model.best_iteration)\n",
    "            else:  # xgb\n",
    "                pred_proba = model.predict(xgb_X, ntree_limit=model.best_iteration)\n",
    "                \n",
    "            predictions.append((pred_proba >= 0.5).astype(int))\n",
    "        \n",
    "        predictions = np.array(predictions).T\n",
    "        final_pred = np.apply_along_axis(lambda x: np.bincount(x).argmax(), axis=1, arr=predictions)\n",
    "        return final_pred\n",
    "    else:\n",
    "        # 软投票：概率平均值\n",
    "        all_preds = []\n",
    "        for model_info in models:\n",
    "            model = model_info['model']\n",
    "            model_type = model_info['type']\n",
    "            \n",
    "            if model_type == 'lgb':\n",
    "                pred = model.predict(X, num_iteration=model.best_iteration)\n",
    "            else:  # xgb\n",
    "                pred = model.predict(xgb_X, ntree_limit=model.best_iteration)\n",
    "                \n",
    "            all_preds.append(pred)\n",
    "        \n",
    "        return np.mean(all_preds, axis=0)"
   ]
  },
  {
   "cell_type": "code",
   "execution_count": 34,
   "metadata": {},
   "outputs": [
    {
     "name": "stdout",
     "output_type": "stream",
     "text": [
      "预测成功\n"
     ]
    }
   ],
   "source": [
    "def predict_with_voting_model(model_path, X, voting_type='soft'):\n",
    "    with open(model_path, 'rb') as f:\n",
    "        voting_model = pickle.load(f)\n",
    "    \n",
    "    base_models = voting_model['base_models']\n",
    "    return voting_predict(base_models, X, voting_type)\n",
    "\n",
    "# 生成测试集预测结果\n",
    "pred6 = predict_with_voting_model('./models/voting_ensemble_model.pkl', test_x)\n",
    "print(\"预测成功\")"
   ]
  },
  {
   "cell_type": "code",
   "execution_count": 35,
   "metadata": {},
   "outputs": [],
   "source": [
    "# 生成提交文件\n",
    "sub['voting_by_lgb'] = pred6"
   ]
  },
  {
   "cell_type": "markdown",
   "metadata": {},
   "source": [
    "# 7. 基于xgb和lgb的voting"
   ]
  },
  {
   "cell_type": "code",
   "execution_count": 36,
   "metadata": {},
   "outputs": [],
   "source": [
    "# 投票预测函数\n",
    "def voting_predict(models, X, voting_type='soft'):\n",
    "    \"\"\"\n",
    "    投票预测\n",
    "    voting_type: 'soft'为概率加权平均, 'hard'为多数表决\n",
    "    \"\"\"\n",
    "    # 转换X为DMatrix（如果是XGBoost需要）\n",
    "    xgb_X = xgb.DMatrix(X) if isinstance(X, pd.DataFrame) else xgb.DMatrix(X.values)\n",
    "    \n",
    "    if voting_type == 'hard':\n",
    "        # 硬投票：取多数类\n",
    "        predictions = []\n",
    "        for model_info in models:\n",
    "            model = model_info['model']\n",
    "            model_type = model_info['type']\n",
    "            \n",
    "            if model_type == 'lgb':\n",
    "                pred_proba = model.predict(X, num_iteration=model.best_iteration)\n",
    "            else:  # xgb\n",
    "                pred_proba = model.predict(xgb_X, ntree_limit=model.best_iteration)\n",
    "                \n",
    "            predictions.append((pred_proba >= 0.5).astype(int))\n",
    "        \n",
    "        predictions = np.array(predictions).T\n",
    "        final_pred = np.apply_along_axis(lambda x: np.bincount(x).argmax(), axis=1, arr=predictions)\n",
    "        return final_pred\n",
    "    else:\n",
    "        # 软投票：概率平均值\n",
    "        all_preds = []\n",
    "        for model_info in models:\n",
    "            model = model_info['model']\n",
    "            model_type = model_info['type']\n",
    "            \n",
    "            if model_type == 'lgb':\n",
    "                pred = model.predict(X, num_iteration=model.best_iteration)\n",
    "            else:  # xgb\n",
    "                pred = model.predict(xgb_X, ntree_limit=model.best_iteration)\n",
    "                \n",
    "            all_preds.append(pred)\n",
    "        \n",
    "        return np.mean(all_preds, axis=0)"
   ]
  },
  {
   "cell_type": "code",
   "execution_count": 37,
   "metadata": {},
   "outputs": [
    {
     "name": "stdout",
     "output_type": "stream",
     "text": [
      "预测成功！\n"
     ]
    }
   ],
   "source": [
    "# 加载模型并预测\n",
    "def predict_with_voting_model(model_path, X, voting_type='soft'):\n",
    "    with open(model_path, 'rb') as f:\n",
    "        voting_model = pickle.load(f)\n",
    "    \n",
    "    base_models = voting_model['base_models']\n",
    "    return voting_predict(base_models, X, voting_type)\n",
    "\n",
    "# 生成测试集预测结果\n",
    "pred7 = predict_with_voting_model('./models/voting_ensemble_model.pkl', test_x)\n",
    "print(\"预测成功！\")\n",
    "\n",
    "# 生成提交文件\n",
    "sub['voting_by_lgb_and_xgb'] = pred7"
   ]
  },
  {
   "cell_type": "code",
   "execution_count": 38,
   "metadata": {},
   "outputs": [
    {
     "data": {
      "text/html": [
       "<div>\n",
       "<style scoped>\n",
       "    .dataframe tbody tr th:only-of-type {\n",
       "        vertical-align: middle;\n",
       "    }\n",
       "\n",
       "    .dataframe tbody tr th {\n",
       "        vertical-align: top;\n",
       "    }\n",
       "\n",
       "    .dataframe thead th {\n",
       "        text-align: right;\n",
       "    }\n",
       "</style>\n",
       "<table border=\"1\" class=\"dataframe\">\n",
       "  <thead>\n",
       "    <tr style=\"text-align: right;\">\n",
       "      <th></th>\n",
       "      <th>ID</th>\n",
       "      <th>label</th>\n",
       "      <th>stacking_by_lgb</th>\n",
       "      <th>stacking_by_lgb_and_xgb</th>\n",
       "      <th>lgb_10fold_pred</th>\n",
       "      <th>xgb_10fold_pred</th>\n",
       "      <th>stacking_by_lgb_and_xgb_logistic</th>\n",
       "      <th>voting_by_lgb</th>\n",
       "      <th>voting_by_lgb_and_xgb</th>\n",
       "    </tr>\n",
       "  </thead>\n",
       "  <tbody>\n",
       "    <tr>\n",
       "      <th>0</th>\n",
       "      <td>1</td>\n",
       "      <td>0.1</td>\n",
       "      <td>0.591386</td>\n",
       "      <td>0.067679</td>\n",
       "      <td>0.255563</td>\n",
       "      <td>0.106641</td>\n",
       "      <td>0.214623</td>\n",
       "      <td>0.117681</td>\n",
       "      <td>0.117681</td>\n",
       "    </tr>\n",
       "    <tr>\n",
       "      <th>1</th>\n",
       "      <td>4</td>\n",
       "      <td>0.1</td>\n",
       "      <td>0.129605</td>\n",
       "      <td>0.302932</td>\n",
       "      <td>0.184471</td>\n",
       "      <td>0.277002</td>\n",
       "      <td>0.052701</td>\n",
       "      <td>0.165264</td>\n",
       "      <td>0.165264</td>\n",
       "    </tr>\n",
       "    <tr>\n",
       "      <th>2</th>\n",
       "      <td>6</td>\n",
       "      <td>0.1</td>\n",
       "      <td>0.352608</td>\n",
       "      <td>0.239900</td>\n",
       "      <td>0.257298</td>\n",
       "      <td>0.250648</td>\n",
       "      <td>0.430809</td>\n",
       "      <td>0.209773</td>\n",
       "      <td>0.209773</td>\n",
       "    </tr>\n",
       "    <tr>\n",
       "      <th>3</th>\n",
       "      <td>8</td>\n",
       "      <td>0.1</td>\n",
       "      <td>0.181499</td>\n",
       "      <td>0.547579</td>\n",
       "      <td>0.326018</td>\n",
       "      <td>0.262511</td>\n",
       "      <td>0.023174</td>\n",
       "      <td>0.236325</td>\n",
       "      <td>0.236325</td>\n",
       "    </tr>\n",
       "    <tr>\n",
       "      <th>4</th>\n",
       "      <td>10</td>\n",
       "      <td>0.1</td>\n",
       "      <td>0.460039</td>\n",
       "      <td>0.245512</td>\n",
       "      <td>0.235715</td>\n",
       "      <td>0.257917</td>\n",
       "      <td>0.301299</td>\n",
       "      <td>0.173463</td>\n",
       "      <td>0.173463</td>\n",
       "    </tr>\n",
       "  </tbody>\n",
       "</table>\n",
       "</div>"
      ],
      "text/plain": [
       "   ID  label  stacking_by_lgb  stacking_by_lgb_and_xgb  lgb_10fold_pred  \\\n",
       "0   1    0.1         0.591386                 0.067679         0.255563   \n",
       "1   4    0.1         0.129605                 0.302932         0.184471   \n",
       "2   6    0.1         0.352608                 0.239900         0.257298   \n",
       "3   8    0.1         0.181499                 0.547579         0.326018   \n",
       "4  10    0.1         0.460039                 0.245512         0.235715   \n",
       "\n",
       "   xgb_10fold_pred  stacking_by_lgb_and_xgb_logistic  voting_by_lgb  \\\n",
       "0         0.106641                          0.214623       0.117681   \n",
       "1         0.277002                          0.052701       0.165264   \n",
       "2         0.250648                          0.430809       0.209773   \n",
       "3         0.262511                          0.023174       0.236325   \n",
       "4         0.257917                          0.301299       0.173463   \n",
       "\n",
       "   voting_by_lgb_and_xgb  \n",
       "0               0.117681  \n",
       "1               0.165264  \n",
       "2               0.209773  \n",
       "3               0.236325  \n",
       "4               0.173463  "
      ]
     },
     "execution_count": 38,
     "metadata": {},
     "output_type": "execute_result"
    }
   ],
   "source": [
    "sub.head()"
   ]
  },
  {
   "cell_type": "code",
   "execution_count": 39,
   "metadata": {},
   "outputs": [],
   "source": [
    "sub = sub.drop(columns = ['label'])"
   ]
  },
  {
   "cell_type": "code",
   "execution_count": 40,
   "metadata": {},
   "outputs": [
    {
     "data": {
      "text/plain": [
       "(40000, 8)"
      ]
     },
     "execution_count": 40,
     "metadata": {},
     "output_type": "execute_result"
    }
   ],
   "source": [
    "sub.shape"
   ]
  },
  {
   "cell_type": "code",
   "execution_count": 41,
   "metadata": {},
   "outputs": [],
   "source": [
    "list_co = list(sub.columns[1:])"
   ]
  },
  {
   "cell_type": "code",
   "execution_count": 42,
   "metadata": {},
   "outputs": [
    {
     "data": {
      "text/plain": [
       "['stacking_by_lgb',\n",
       " 'stacking_by_lgb_and_xgb',\n",
       " 'lgb_10fold_pred',\n",
       " 'xgb_10fold_pred',\n",
       " 'stacking_by_lgb_and_xgb_logistic',\n",
       " 'voting_by_lgb',\n",
       " 'voting_by_lgb_and_xgb']"
      ]
     },
     "execution_count": 42,
     "metadata": {},
     "output_type": "execute_result"
    }
   ],
   "source": [
    "list_co"
   ]
  },
  {
   "cell_type": "markdown",
   "metadata": {},
   "source": [
    "### 各模型的阈值(依模型调整) //方案一"
   ]
  },
  {
   "cell_type": "code",
   "execution_count": 43,
   "metadata": {},
   "outputs": [],
   "source": [
    "sub1 = sub.copy()"
   ]
  },
  {
   "cell_type": "code",
   "execution_count": 44,
   "metadata": {},
   "outputs": [],
   "source": [
    "#测试阈值\n",
    "threshold = {'1':0.5,\n",
    "             '2':0.5,\n",
    "             '3':0.5,\n",
    "             '4':0.5,\n",
    "             '5':0.5,\n",
    "             '6':0.5,\n",
    "             '7':0.5\n",
    "            }"
   ]
  },
  {
   "cell_type": "code",
   "execution_count": 45,
   "metadata": {},
   "outputs": [],
   "source": [
    "for idx,co in enumerate(list_co,1):\n",
    "    sub1[co] = sub[co].apply(lambda x:1 if x>threshold[str(idx)] else 0)"
   ]
  },
  {
   "cell_type": "code",
   "execution_count": 46,
   "metadata": {},
   "outputs": [
    {
     "data": {
      "text/html": [
       "<div>\n",
       "<style scoped>\n",
       "    .dataframe tbody tr th:only-of-type {\n",
       "        vertical-align: middle;\n",
       "    }\n",
       "\n",
       "    .dataframe tbody tr th {\n",
       "        vertical-align: top;\n",
       "    }\n",
       "\n",
       "    .dataframe thead th {\n",
       "        text-align: right;\n",
       "    }\n",
       "</style>\n",
       "<table border=\"1\" class=\"dataframe\">\n",
       "  <thead>\n",
       "    <tr style=\"text-align: right;\">\n",
       "      <th></th>\n",
       "      <th>ID</th>\n",
       "      <th>stacking_by_lgb</th>\n",
       "      <th>stacking_by_lgb_and_xgb</th>\n",
       "      <th>lgb_10fold_pred</th>\n",
       "      <th>xgb_10fold_pred</th>\n",
       "      <th>stacking_by_lgb_and_xgb_logistic</th>\n",
       "      <th>voting_by_lgb</th>\n",
       "      <th>voting_by_lgb_and_xgb</th>\n",
       "    </tr>\n",
       "  </thead>\n",
       "  <tbody>\n",
       "    <tr>\n",
       "      <th>0</th>\n",
       "      <td>1</td>\n",
       "      <td>1</td>\n",
       "      <td>0</td>\n",
       "      <td>0</td>\n",
       "      <td>0</td>\n",
       "      <td>0</td>\n",
       "      <td>0</td>\n",
       "      <td>0</td>\n",
       "    </tr>\n",
       "    <tr>\n",
       "      <th>1</th>\n",
       "      <td>4</td>\n",
       "      <td>0</td>\n",
       "      <td>0</td>\n",
       "      <td>0</td>\n",
       "      <td>0</td>\n",
       "      <td>0</td>\n",
       "      <td>0</td>\n",
       "      <td>0</td>\n",
       "    </tr>\n",
       "    <tr>\n",
       "      <th>2</th>\n",
       "      <td>6</td>\n",
       "      <td>0</td>\n",
       "      <td>0</td>\n",
       "      <td>0</td>\n",
       "      <td>0</td>\n",
       "      <td>0</td>\n",
       "      <td>0</td>\n",
       "      <td>0</td>\n",
       "    </tr>\n",
       "    <tr>\n",
       "      <th>3</th>\n",
       "      <td>8</td>\n",
       "      <td>0</td>\n",
       "      <td>1</td>\n",
       "      <td>0</td>\n",
       "      <td>0</td>\n",
       "      <td>0</td>\n",
       "      <td>0</td>\n",
       "      <td>0</td>\n",
       "    </tr>\n",
       "    <tr>\n",
       "      <th>4</th>\n",
       "      <td>10</td>\n",
       "      <td>0</td>\n",
       "      <td>0</td>\n",
       "      <td>0</td>\n",
       "      <td>0</td>\n",
       "      <td>0</td>\n",
       "      <td>0</td>\n",
       "      <td>0</td>\n",
       "    </tr>\n",
       "  </tbody>\n",
       "</table>\n",
       "</div>"
      ],
      "text/plain": [
       "   ID  stacking_by_lgb  stacking_by_lgb_and_xgb  lgb_10fold_pred  \\\n",
       "0   1                1                        0                0   \n",
       "1   4                0                        0                0   \n",
       "2   6                0                        0                0   \n",
       "3   8                0                        1                0   \n",
       "4  10                0                        0                0   \n",
       "\n",
       "   xgb_10fold_pred  stacking_by_lgb_and_xgb_logistic  voting_by_lgb  \\\n",
       "0                0                                 0              0   \n",
       "1                0                                 0              0   \n",
       "2                0                                 0              0   \n",
       "3                0                                 0              0   \n",
       "4                0                                 0              0   \n",
       "\n",
       "   voting_by_lgb_and_xgb  \n",
       "0                      0  \n",
       "1                      0  \n",
       "2                      0  \n",
       "3                      0  \n",
       "4                      0  "
      ]
     },
     "execution_count": 46,
     "metadata": {},
     "output_type": "execute_result"
    }
   ],
   "source": [
    "sub1.head()"
   ]
  },
  {
   "cell_type": "markdown",
   "metadata": {},
   "source": [
    "### 投票"
   ]
  },
  {
   "cell_type": "code",
   "execution_count": 33,
   "metadata": {},
   "outputs": [],
   "source": [
    "sub1['label'] = sub1.iloc[:,1:].mode(axis = 1)"
   ]
  },
  {
   "cell_type": "code",
   "execution_count": 34,
   "metadata": {},
   "outputs": [],
   "source": [
    "sub1 = sub1[['ID','label']]"
   ]
  },
  {
   "cell_type": "code",
   "execution_count": 35,
   "metadata": {},
   "outputs": [],
   "source": [
    "sub1.to_csv('./result/sub_by_voting.csv',index = False)"
   ]
  },
  {
   "cell_type": "code",
   "execution_count": 36,
   "metadata": {},
   "outputs": [
    {
     "data": {
      "text/html": [
       "<div>\n",
       "<style scoped>\n",
       "    .dataframe tbody tr th:only-of-type {\n",
       "        vertical-align: middle;\n",
       "    }\n",
       "\n",
       "    .dataframe tbody tr th {\n",
       "        vertical-align: top;\n",
       "    }\n",
       "\n",
       "    .dataframe thead th {\n",
       "        text-align: right;\n",
       "    }\n",
       "</style>\n",
       "<table border=\"1\" class=\"dataframe\">\n",
       "  <thead>\n",
       "    <tr style=\"text-align: right;\">\n",
       "      <th></th>\n",
       "      <th>ID</th>\n",
       "      <th>label</th>\n",
       "    </tr>\n",
       "  </thead>\n",
       "  <tbody>\n",
       "    <tr>\n",
       "      <th>0</th>\n",
       "      <td>1</td>\n",
       "      <td>0</td>\n",
       "    </tr>\n",
       "    <tr>\n",
       "      <th>1</th>\n",
       "      <td>4</td>\n",
       "      <td>0</td>\n",
       "    </tr>\n",
       "    <tr>\n",
       "      <th>2</th>\n",
       "      <td>6</td>\n",
       "      <td>0</td>\n",
       "    </tr>\n",
       "    <tr>\n",
       "      <th>3</th>\n",
       "      <td>8</td>\n",
       "      <td>0</td>\n",
       "    </tr>\n",
       "    <tr>\n",
       "      <th>4</th>\n",
       "      <td>10</td>\n",
       "      <td>0</td>\n",
       "    </tr>\n",
       "  </tbody>\n",
       "</table>\n",
       "</div>"
      ],
      "text/plain": [
       "   ID  label\n",
       "0   1      0\n",
       "1   4      0\n",
       "2   6      0\n",
       "3   8      0\n",
       "4  10      0"
      ]
     },
     "execution_count": 36,
     "metadata": {},
     "output_type": "execute_result"
    }
   ],
   "source": [
    "sub1.head()"
   ]
  },
  {
   "cell_type": "markdown",
   "metadata": {},
   "source": [
    "### 各模型的auc(依模型调整) //方案二"
   ]
  },
  {
   "cell_type": "code",
   "execution_count": 37,
   "metadata": {},
   "outputs": [],
   "source": [
    "#测试阈值\n",
    "auc_score = {'1':0.1,\n",
    "             '2':0.6,\n",
    "             '3':0.5,\n",
    "             '4':0.4,\n",
    "             '5':0.2,\n",
    "             '6':0.9,\n",
    "             '7':0.3\n",
    "            }"
   ]
  },
  {
   "cell_type": "code",
   "execution_count": 38,
   "metadata": {},
   "outputs": [],
   "source": [
    "sum_auc_score = 0\n",
    "for i in range(1,8):\n",
    "    sum_auc_score +=auc_score[str(i)]"
   ]
  },
  {
   "cell_type": "code",
   "execution_count": 39,
   "metadata": {},
   "outputs": [],
   "source": [
    "auc_weight = [auc_score[str(i)]/sum_auc_score for i in range(1,8)]"
   ]
  },
  {
   "cell_type": "code",
   "execution_count": 40,
   "metadata": {},
   "outputs": [],
   "source": [
    "sub2 = sub.copy()"
   ]
  },
  {
   "cell_type": "code",
   "execution_count": 41,
   "metadata": {},
   "outputs": [],
   "source": [
    "sub2['label'] = 0"
   ]
  },
  {
   "cell_type": "code",
   "execution_count": 42,
   "metadata": {},
   "outputs": [],
   "source": [
    "for idx,co in enumerate(list_co,1):\n",
    "    sub2['label'] += auc_weight[idx-1]*sub[co]"
   ]
  },
  {
   "cell_type": "code",
   "execution_count": 43,
   "metadata": {},
   "outputs": [],
   "source": [
    "sub2 = sub2[['ID','label']]"
   ]
  },
  {
   "cell_type": "code",
   "execution_count": 44,
   "metadata": {},
   "outputs": [],
   "source": [
    "sub2['label'] = sub2['label'].apply(lambda x:'%.4f'%x)"
   ]
  },
  {
   "cell_type": "code",
   "execution_count": 45,
   "metadata": {},
   "outputs": [],
   "source": [
    "sub2 = sub2.sort_values(by = 'label',ascending = False)"
   ]
  },
  {
   "cell_type": "code",
   "execution_count": 46,
   "metadata": {},
   "outputs": [],
   "source": [
    "sub2.to_csv('./result/sub_by_auc.csv', index = False)"
   ]
  },
  {
   "cell_type": "markdown",
   "metadata": {},
   "source": [
    "### 各模型的F1(依模型调整) //方案三"
   ]
  },
  {
   "cell_type": "code",
   "execution_count": 47,
   "metadata": {},
   "outputs": [],
   "source": [
    "#测试阈值\n",
    "F1_score =  {'1':0.8,\n",
    "             '2':0.5,\n",
    "             '3':0.5,\n",
    "             '4':0.2,\n",
    "             '5':0.5,\n",
    "             '6':0.5,\n",
    "             '7':0.1\n",
    "            }"
   ]
  },
  {
   "cell_type": "code",
   "execution_count": 48,
   "metadata": {},
   "outputs": [],
   "source": [
    "sum_F1_score = 0\n",
    "for i in range(1,8):\n",
    "    sum_F1_score +=F1_score[str(i)]"
   ]
  },
  {
   "cell_type": "code",
   "execution_count": 49,
   "metadata": {},
   "outputs": [],
   "source": [
    "F1_weight = [F1_score[str(i)]/sum_F1_score for i in range(1,8)]"
   ]
  },
  {
   "cell_type": "code",
   "execution_count": 50,
   "metadata": {},
   "outputs": [],
   "source": [
    "sub3 = sub.copy()"
   ]
  },
  {
   "cell_type": "code",
   "execution_count": 51,
   "metadata": {},
   "outputs": [],
   "source": [
    "sub3['label'] = 0"
   ]
  },
  {
   "cell_type": "code",
   "execution_count": 52,
   "metadata": {},
   "outputs": [],
   "source": [
    "for idx,co in enumerate(list_co,1):\n",
    "    sub3['label'] += F1_weight[idx-1]*sub[co]"
   ]
  },
  {
   "cell_type": "code",
   "execution_count": 53,
   "metadata": {},
   "outputs": [],
   "source": [
    "sub3 = sub3[['ID','label']]"
   ]
  },
  {
   "cell_type": "code",
   "execution_count": 54,
   "metadata": {},
   "outputs": [],
   "source": [
    "sub3['label'] = sub3['label'].apply(lambda x:'%.4f'%x)"
   ]
  },
  {
   "cell_type": "code",
   "execution_count": 55,
   "metadata": {},
   "outputs": [],
   "source": [
    "sub3 = sub3.sort_values(by = 'label',ascending = False)"
   ]
  },
  {
   "cell_type": "code",
   "execution_count": 56,
   "metadata": {},
   "outputs": [],
   "source": [
    "sub3.to_csv('./result/sub_by_f1.csv', index = False)"
   ]
  },
  {
   "cell_type": "markdown",
   "metadata": {},
   "source": [
    "### 各模型的Ks(依模型调整) //方案四"
   ]
  },
  {
   "cell_type": "code",
   "execution_count": 57,
   "metadata": {},
   "outputs": [],
   "source": [
    "#测试阈值\n",
    "Ks_score =  {'1':0.8,\n",
    "             '2':0.3,\n",
    "             '3':0.5,\n",
    "             '4':0.2,\n",
    "             '5':0.5,\n",
    "             '6':0.9,\n",
    "             '7':0.8\n",
    "            }"
   ]
  },
  {
   "cell_type": "code",
   "execution_count": 58,
   "metadata": {},
   "outputs": [],
   "source": [
    "sum_Ks_score = 0\n",
    "for i in range(1,8):\n",
    "    sum_Ks_score +=Ks_score[str(i)]"
   ]
  },
  {
   "cell_type": "code",
   "execution_count": 59,
   "metadata": {},
   "outputs": [],
   "source": [
    "Ks_weight = [Ks_score[str(i)]/sum_Ks_score for i in range(1,8)]"
   ]
  },
  {
   "cell_type": "code",
   "execution_count": 60,
   "metadata": {},
   "outputs": [],
   "source": [
    "sub4 = sub.copy()"
   ]
  },
  {
   "cell_type": "code",
   "execution_count": 61,
   "metadata": {},
   "outputs": [],
   "source": [
    "sub4['label'] = 0"
   ]
  },
  {
   "cell_type": "code",
   "execution_count": 62,
   "metadata": {},
   "outputs": [],
   "source": [
    "for idx,co in enumerate(list_co,1):\n",
    "    sub4['label'] += Ks_weight[idx-1]*sub[co]"
   ]
  },
  {
   "cell_type": "code",
   "execution_count": 63,
   "metadata": {},
   "outputs": [],
   "source": [
    "sub4 = sub4[['ID','label']]"
   ]
  },
  {
   "cell_type": "code",
   "execution_count": 64,
   "metadata": {},
   "outputs": [],
   "source": [
    "sub4['label'] = sub4['label'].apply(lambda x:'%.4f'%x)"
   ]
  },
  {
   "cell_type": "code",
   "execution_count": 65,
   "metadata": {},
   "outputs": [],
   "source": [
    "sub4 = sub4.sort_values(by = 'label',ascending = False)"
   ]
  },
  {
   "cell_type": "code",
   "execution_count": 66,
   "metadata": {},
   "outputs": [],
   "source": [
    "sub4.to_csv('./result/sub_by_ks.csv', index = False)"
   ]
  },
  {
   "cell_type": "code",
   "execution_count": 67,
   "metadata": {},
   "outputs": [
    {
     "data": {
      "text/html": [
       "<div>\n",
       "<style scoped>\n",
       "    .dataframe tbody tr th:only-of-type {\n",
       "        vertical-align: middle;\n",
       "    }\n",
       "\n",
       "    .dataframe tbody tr th {\n",
       "        vertical-align: top;\n",
       "    }\n",
       "\n",
       "    .dataframe thead th {\n",
       "        text-align: right;\n",
       "    }\n",
       "</style>\n",
       "<table border=\"1\" class=\"dataframe\">\n",
       "  <thead>\n",
       "    <tr style=\"text-align: right;\">\n",
       "      <th></th>\n",
       "      <th>ID</th>\n",
       "      <th>label</th>\n",
       "    </tr>\n",
       "  </thead>\n",
       "  <tbody>\n",
       "    <tr>\n",
       "      <th>0</th>\n",
       "      <td>1</td>\n",
       "      <td>0</td>\n",
       "    </tr>\n",
       "    <tr>\n",
       "      <th>1</th>\n",
       "      <td>4</td>\n",
       "      <td>0</td>\n",
       "    </tr>\n",
       "    <tr>\n",
       "      <th>2</th>\n",
       "      <td>6</td>\n",
       "      <td>0</td>\n",
       "    </tr>\n",
       "    <tr>\n",
       "      <th>3</th>\n",
       "      <td>8</td>\n",
       "      <td>0</td>\n",
       "    </tr>\n",
       "    <tr>\n",
       "      <th>4</th>\n",
       "      <td>10</td>\n",
       "      <td>0</td>\n",
       "    </tr>\n",
       "  </tbody>\n",
       "</table>\n",
       "</div>"
      ],
      "text/plain": [
       "   ID  label\n",
       "0   1      0\n",
       "1   4      0\n",
       "2   6      0\n",
       "3   8      0\n",
       "4  10      0"
      ]
     },
     "execution_count": 67,
     "metadata": {},
     "output_type": "execute_result"
    }
   ],
   "source": [
    "sub1.head()"
   ]
  },
  {
   "cell_type": "code",
   "execution_count": 68,
   "metadata": {},
   "outputs": [
    {
     "data": {
      "text/html": [
       "<div>\n",
       "<style scoped>\n",
       "    .dataframe tbody tr th:only-of-type {\n",
       "        vertical-align: middle;\n",
       "    }\n",
       "\n",
       "    .dataframe tbody tr th {\n",
       "        vertical-align: top;\n",
       "    }\n",
       "\n",
       "    .dataframe thead th {\n",
       "        text-align: right;\n",
       "    }\n",
       "</style>\n",
       "<table border=\"1\" class=\"dataframe\">\n",
       "  <thead>\n",
       "    <tr style=\"text-align: right;\">\n",
       "      <th></th>\n",
       "      <th>ID</th>\n",
       "      <th>label</th>\n",
       "    </tr>\n",
       "  </thead>\n",
       "  <tbody>\n",
       "    <tr>\n",
       "      <th>21997</th>\n",
       "      <td>54863</td>\n",
       "      <td>0.8616</td>\n",
       "    </tr>\n",
       "    <tr>\n",
       "      <th>34848</th>\n",
       "      <td>87143</td>\n",
       "      <td>0.8485</td>\n",
       "    </tr>\n",
       "    <tr>\n",
       "      <th>24327</th>\n",
       "      <td>60770</td>\n",
       "      <td>0.8445</td>\n",
       "    </tr>\n",
       "    <tr>\n",
       "      <th>37932</th>\n",
       "      <td>94798</td>\n",
       "      <td>0.8369</td>\n",
       "    </tr>\n",
       "    <tr>\n",
       "      <th>34130</th>\n",
       "      <td>85377</td>\n",
       "      <td>0.8131</td>\n",
       "    </tr>\n",
       "  </tbody>\n",
       "</table>\n",
       "</div>"
      ],
      "text/plain": [
       "          ID   label\n",
       "21997  54863  0.8616\n",
       "34848  87143  0.8485\n",
       "24327  60770  0.8445\n",
       "37932  94798  0.8369\n",
       "34130  85377  0.8131"
      ]
     },
     "execution_count": 68,
     "metadata": {},
     "output_type": "execute_result"
    }
   ],
   "source": [
    "sub2.head()"
   ]
  },
  {
   "cell_type": "code",
   "execution_count": 69,
   "metadata": {},
   "outputs": [
    {
     "data": {
      "text/html": [
       "<div>\n",
       "<style scoped>\n",
       "    .dataframe tbody tr th:only-of-type {\n",
       "        vertical-align: middle;\n",
       "    }\n",
       "\n",
       "    .dataframe tbody tr th {\n",
       "        vertical-align: top;\n",
       "    }\n",
       "\n",
       "    .dataframe thead th {\n",
       "        text-align: right;\n",
       "    }\n",
       "</style>\n",
       "<table border=\"1\" class=\"dataframe\">\n",
       "  <thead>\n",
       "    <tr style=\"text-align: right;\">\n",
       "      <th></th>\n",
       "      <th>ID</th>\n",
       "      <th>label</th>\n",
       "    </tr>\n",
       "  </thead>\n",
       "  <tbody>\n",
       "    <tr>\n",
       "      <th>21997</th>\n",
       "      <td>54863</td>\n",
       "      <td>0.8677</td>\n",
       "    </tr>\n",
       "    <tr>\n",
       "      <th>34848</th>\n",
       "      <td>87143</td>\n",
       "      <td>0.8626</td>\n",
       "    </tr>\n",
       "    <tr>\n",
       "      <th>24327</th>\n",
       "      <td>60770</td>\n",
       "      <td>0.8560</td>\n",
       "    </tr>\n",
       "    <tr>\n",
       "      <th>37932</th>\n",
       "      <td>94798</td>\n",
       "      <td>0.8538</td>\n",
       "    </tr>\n",
       "    <tr>\n",
       "      <th>37910</th>\n",
       "      <td>94737</td>\n",
       "      <td>0.8404</td>\n",
       "    </tr>\n",
       "  </tbody>\n",
       "</table>\n",
       "</div>"
      ],
      "text/plain": [
       "          ID   label\n",
       "21997  54863  0.8677\n",
       "34848  87143  0.8626\n",
       "24327  60770  0.8560\n",
       "37932  94798  0.8538\n",
       "37910  94737  0.8404"
      ]
     },
     "execution_count": 69,
     "metadata": {},
     "output_type": "execute_result"
    }
   ],
   "source": [
    "sub3.head()"
   ]
  },
  {
   "cell_type": "code",
   "execution_count": 70,
   "metadata": {},
   "outputs": [
    {
     "data": {
      "text/html": [
       "<div>\n",
       "<style scoped>\n",
       "    .dataframe tbody tr th:only-of-type {\n",
       "        vertical-align: middle;\n",
       "    }\n",
       "\n",
       "    .dataframe tbody tr th {\n",
       "        vertical-align: top;\n",
       "    }\n",
       "\n",
       "    .dataframe thead th {\n",
       "        text-align: right;\n",
       "    }\n",
       "</style>\n",
       "<table border=\"1\" class=\"dataframe\">\n",
       "  <thead>\n",
       "    <tr style=\"text-align: right;\">\n",
       "      <th></th>\n",
       "      <th>ID</th>\n",
       "      <th>label</th>\n",
       "    </tr>\n",
       "  </thead>\n",
       "  <tbody>\n",
       "    <tr>\n",
       "      <th>21997</th>\n",
       "      <td>54863</td>\n",
       "      <td>0.8645</td>\n",
       "    </tr>\n",
       "    <tr>\n",
       "      <th>34848</th>\n",
       "      <td>87143</td>\n",
       "      <td>0.8546</td>\n",
       "    </tr>\n",
       "    <tr>\n",
       "      <th>24327</th>\n",
       "      <td>60770</td>\n",
       "      <td>0.8464</td>\n",
       "    </tr>\n",
       "    <tr>\n",
       "      <th>37932</th>\n",
       "      <td>94798</td>\n",
       "      <td>0.8412</td>\n",
       "    </tr>\n",
       "    <tr>\n",
       "      <th>34130</th>\n",
       "      <td>85377</td>\n",
       "      <td>0.8258</td>\n",
       "    </tr>\n",
       "  </tbody>\n",
       "</table>\n",
       "</div>"
      ],
      "text/plain": [
       "          ID   label\n",
       "21997  54863  0.8645\n",
       "34848  87143  0.8546\n",
       "24327  60770  0.8464\n",
       "37932  94798  0.8412\n",
       "34130  85377  0.8258"
      ]
     },
     "execution_count": 70,
     "metadata": {},
     "output_type": "execute_result"
    }
   ],
   "source": [
    "sub4.head()"
   ]
  },
  {
   "cell_type": "code",
   "execution_count": null,
   "metadata": {},
   "outputs": [],
   "source": []
  },
  {
   "cell_type": "code",
   "execution_count": null,
   "metadata": {},
   "outputs": [],
   "source": []
  }
 ],
 "metadata": {
  "kernelspec": {
   "display_name": "Python 3",
   "language": "python",
   "name": "python3"
  },
  "language_info": {
   "codemirror_mode": {
    "name": "ipython",
    "version": 3
   },
   "file_extension": ".py",
   "mimetype": "text/x-python",
   "name": "python",
   "nbconvert_exporter": "python",
   "pygments_lexer": "ipython3",
   "version": "3.7.0"
  }
 },
 "nbformat": 4,
 "nbformat_minor": 2
}
