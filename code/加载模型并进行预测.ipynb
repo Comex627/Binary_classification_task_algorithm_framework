{
 "cells": [
  {
   "cell_type": "code",
   "execution_count": 1,
   "metadata": {},
   "outputs": [],
   "source": [
    "import numpy as np \n",
    "import pandas as pd \n",
    "import lightgbm as lgb\n",
    "from sklearn.model_selection import StratifiedKFold\n",
    "from sklearn.metrics import roc_auc_score, f1_score, precision_score, recall_score, roc_curve\n",
    "import warnings\n",
    "from sklearn.preprocessing import LabelEncoder\n",
    "import gc\n",
    "import os\n",
    "import time\n",
    "import pickle\n",
    "import matplotlib.pyplot as plt\n",
    "import seaborn as sns\n",
    "\n",
    "# 设置中文字体，解决乱码问题\n",
    "plt.rcParams[\"font.family\"] = [\"SimHei\", \"WenQuanYi Micro Hei\", \"Heiti TC\"]\n",
    "sns.set(font='SimHei', font_scale=0.8)\n",
    "warnings.filterwarnings('ignore')"
   ]
  },
  {
   "cell_type": "code",
   "execution_count": 2,
   "metadata": {},
   "outputs": [],
   "source": [
    "import xgboost as xgb"
   ]
  },
  {
   "cell_type": "code",
   "execution_count": 3,
   "metadata": {},
   "outputs": [],
   "source": [
    "train = pd.read_csv('../data/train.csv')\n",
    "label = pd.read_csv('../data/train_label.csv')\n",
    "test = pd.read_csv('../data/test.csv')\n",
    "sub = pd.read_csv('../data/submission.csv')"
   ]
  },
  {
   "cell_type": "code",
   "execution_count": 4,
   "metadata": {},
   "outputs": [],
   "source": [
    "df_source = train.merge(label,on='ID',how='left')\n",
    "\n",
    "\n",
    "test['label'] = -1\n",
    "train = train.merge(label,on='ID',how='left')\n",
    "data = pd.concat([train, test])\n"
   ]
  },
  {
   "cell_type": "code",
   "execution_count": 5,
   "metadata": {},
   "outputs": [
    {
     "name": "stdout",
     "output_type": "stream",
     "text": [
      "Begin ratio clcik...\n",
      "The end\n"
     ]
    }
   ],
   "source": [
    "#提取时间特征\n",
    "\n",
    "def get_time_fe(df):\n",
    "    df['day'] = df.date.apply(lambda x:int(x[8:10]))\n",
    "    df['hour'] = df.date.apply(lambda x:int(x[11:13]))\n",
    "    return df\n",
    "\n",
    "\n",
    "\n",
    "\n",
    "\n",
    "#对时间分箱\n",
    "def getSeg(x):\n",
    "    if x >=0 and x<= 3:\n",
    "        return 1\n",
    "    elif x>=4 and x<=12:\n",
    "        return 2\n",
    "    elif x>=13 and x<=18:\n",
    "        return 3\n",
    "    elif x>=19 and x<=23:\n",
    "        return 1\n",
    "\n",
    "\n",
    "\n",
    "\n",
    "#count统计特征\n",
    "cross_feature = []\n",
    "def get_cross_fe(df):\n",
    "    first_feature = [ 'B2', 'B3']\n",
    "    second_feature = ['C1','C2','C3','D1','A1','A2','A3']\n",
    "    for feat_1 in first_feature:\n",
    "        for feat_2 in second_feature:\n",
    "            col_name = \"cross_\" + feat_1 + \"_and_\" + feat_2\n",
    "            cross_feature.append(col_name)\n",
    "            df[col_name] = df[feat_1].astype(str).values + '_' + df[feat_2].astype(str).values\n",
    "    return df\n",
    "\n",
    "\n",
    "\n",
    "#获取nunique特征\n",
    "def get_nunique_1_fe(df):\n",
    "    adid_nuq = [ 'hour','E1','E14','B2','B3']\n",
    "    for feat in adid_nuq:\n",
    "        gp1 = df.groupby('A2')[feat].nunique().reset_index().rename(columns={feat: \"A2_%s_nuq_num\" % feat})\n",
    "        gp2 = df.groupby(feat)['A2'].nunique().reset_index().rename(columns={'A2': \"%s_A2_nuq_num\" % feat})\n",
    "        df = pd.merge(df, gp1, how='left', on=['A2'])\n",
    "        df = pd.merge(df, gp2, how='left', on=[feat])\n",
    "    return df\n",
    "def get_nunique_2_fe(df):\n",
    "    adid_nuq = [ 'E1','E14']\n",
    "    for feat in adid_nuq:\n",
    "        gp1 = df.groupby('hour')[feat].nunique().reset_index().rename(columns={feat: \"hour_%s_nuq_num\" % feat})\n",
    "        gp2 = df.groupby(feat)['hour'].nunique().reset_index().rename(columns={'hour': \"%s_hour_nuq_num\" % feat})\n",
    "        df = pd.merge(df, gp1, how='left', on=['hour'])\n",
    "        df = pd.merge(df, gp2, how='left', on=[feat])\n",
    "    return df\n",
    "\n",
    "# def get_nunique_3_fe(df):\n",
    "#     adid_nuq = ['B2','B3']\n",
    "#     for feat in adid_nuq:\n",
    "#         gp1 = df.groupby('A3')[feat].nunique().reset_index().rename(columns={feat: \"A3_%s_nuq_num\" % feat})\n",
    "#         gp2 = df.groupby(feat)['A3'].nunique().reset_index().rename(columns={'A3': \"%s_A3_nuq_num\" % feat})\n",
    "#         df = pd.merge(df, gp1, how='left', on=['A3'])\n",
    "#         df = pd.merge(df, gp2, how='left', on=[feat])\n",
    "#     return df\n",
    "\n",
    "def get_nunique_4_fe(df):\n",
    "    adid_nuq = [ 'B2','B3']\n",
    "    for feat in adid_nuq:\n",
    "        gp1 = df.groupby('A1')[feat].nunique().reset_index().rename(columns={feat: \"A1_%s_nuq_num\" % feat})\n",
    "        gp2 = df.groupby(feat)['A1'].nunique().reset_index().rename(columns={'A1': \"%s_A1_nuq_num\" % feat})\n",
    "        df = pd.merge(df, gp1, how='left', on=['A1'])\n",
    "        df = pd.merge(df, gp2, how='left', on=[feat])\n",
    "    return df\n",
    "\n",
    "\n",
    "\n",
    "\n",
    "data = get_time_fe(data)\n",
    "# data['hour_seg'] = data['hour'].apply(lambda x: getSeg(x))\n",
    "data = get_cross_fe(data)\n",
    "data = get_nunique_1_fe(data)\n",
    "data = get_nunique_2_fe(data)\n",
    "# data = get_nunique_3_fe(data)\n",
    "# data = get_nunique_4_fe(data)\n",
    "\n",
    "\n",
    "\n",
    "len(cross_feature)\n",
    "\n",
    "\n",
    "\n",
    "\n",
    "#labelencoder()\n",
    "cate_feature = ['A1','A2','A3','B1','B2','B3','C1','C2','C3','E2','E3','E5','E7','E9','E10','E13','E16','E17','E19','E21','E22']\n",
    "# cross_feature = cross_feature[:15]\n",
    "cate_features = cate_feature+cross_feature\n",
    "for item in cate_features:\n",
    "    data[item] = LabelEncoder().fit_transform(data[item])\n",
    "\n",
    "\n",
    "# In[14]:\n",
    "\n",
    "\n",
    "def feature_count(data, features=[]):\n",
    "    new_feature = 'count'\n",
    "    for i in features:\n",
    "        new_feature += '_' + i\n",
    "    try:\n",
    "        del data[new_feature]\n",
    "    except:\n",
    "        pass\n",
    "    temp = data.groupby(features).size().reset_index().rename(columns={0: new_feature})\n",
    "    data = data.merge(temp, 'left', on=features)\n",
    "    return data\n",
    "\n",
    "for i in cross_feature:\n",
    "    n = data[i].nunique()\n",
    "    if n > 5:\n",
    "        data = feature_count(data, [i])\n",
    "    else:\n",
    "        print(i, ':', n)\n",
    "\n",
    "\n",
    "# In[15]:\n",
    "\n",
    "\n",
    "#ratio：类别偏好的ratio比例特征\n",
    "label_feature =[ 'A2', 'A3','hour']\n",
    "data_temp = data[label_feature]\n",
    "df_feature = pd.DataFrame()\n",
    "data_temp['cnt'] = 1\n",
    "print('Begin ratio clcik...')\n",
    "col_type = label_feature.copy()\n",
    "n = len(col_type)\n",
    "for i in range(n):\n",
    "    col_name = \"ratio_click_of_\" + col_type[i]\n",
    "    df_feature[col_name] = (\n",
    "                    data_temp[col_type[i]].map(data_temp[col_type[i]].value_counts()) / len(data) * 100).astype(int)            \n",
    "data = pd.concat([data, df_feature], axis=1)\n",
    "print('The end')\n",
    "\n",
    "\n",
    "\n",
    "\n",
    "train_df = data[data['label'] != -1]\n",
    "test_df = data[data['label'] == -1]\n",
    "\n",
    "\n",
    "# # 删除不需要的字段\n",
    "\n",
    "\n",
    "\n",
    "from sklearn.model_selection import train_test_split, StratifiedKFold\n",
    "\n",
    "\n",
    "\n",
    "\n",
    "\n",
    "## get train feature\n",
    "del_feature = ['ID','day','date','label','D2']+cross_feature\n",
    "features = [i for i in train_df.columns if i not in del_feature]\n",
    "\n",
    "\n",
    "\n",
    "\n",
    "train_x = train_df[features]\n",
    "train_y = train_df['label'].values\n",
    "test = test_df[features]\n",
    "\n",
    "\n",
    "\n",
    "\n",
    "\n",
    "# 设置随机种子，保证结果可复现\n",
    "np.random.seed(42)\n",
    "\n",
    "# 假设train_x（DataFrame或数组）和train_y（Series或数组）是已有的训练数据\n",
    "# 请确保在实际使用时已经正确加载了这两个变量\n",
    "\n",
    "# 确保train_y是一维数组\n",
    "if isinstance(train_y, pd.Series):\n",
    "    train_y = train_y.values\n",
    "\n",
    "# 获取特征数量和特征名称\n",
    "if isinstance(train_x, pd.DataFrame):\n",
    "    n_features = train_x.shape[1]\n",
    "    feature_names = train_x.columns.tolist()\n",
    "else:\n",
    "    n_features = train_x.shape[1]\n",
    "    feature_names = [f'特征{i+1}' for i in range(n_features)]\n"
   ]
  },
  {
   "cell_type": "code",
   "execution_count": 6,
   "metadata": {},
   "outputs": [],
   "source": [
    "test_x = test"
   ]
  },
  {
   "cell_type": "markdown",
   "metadata": {},
   "source": [
    "# 1.基于lgb的stacking"
   ]
  },
  {
   "cell_type": "code",
   "execution_count": 7,
   "metadata": {},
   "outputs": [],
   "source": [
    "def predict_with_model(model_path, X):\n",
    "    \"\"\"\n",
    "    使用保存的stacking模型进行预测\n",
    "    \n",
    "    model_path: 模型pkl文件路径\n",
    "    X: 待预测的特征数据（DataFrame或数组）\n",
    "    \n",
    "    返回:\n",
    "    预测概率\n",
    "    \"\"\"\n",
    "    # 加载模型\n",
    "    with open(model_path, 'rb') as f:\n",
    "        stacking_model = pickle.load(f)\n",
    "    \n",
    "    base_models = stacking_model['base_models']\n",
    "    meta_model = stacking_model['meta_model']\n",
    "    \n",
    "    # 生成元特征\n",
    "    meta_features = np.zeros((X.shape[0], len(base_models)))\n",
    "    for i, model in enumerate(base_models):\n",
    "        meta_features[:, i] = model.predict(X, num_iteration=model.best_iteration)\n",
    "    \n",
    "    # 元模型预测\n",
    "    predictions = meta_model.predict(meta_features, num_iteration=meta_model.best_iteration)\n",
    "    print('预测成功！')\n",
    "    \n",
    "    return predictions\n",
    "\n"
   ]
  },
  {
   "cell_type": "code",
   "execution_count": 8,
   "metadata": {},
   "outputs": [
    {
     "name": "stdout",
     "output_type": "stream",
     "text": [
      "预测成功！\n"
     ]
    }
   ],
   "source": [
    "pre1 = predict_with_model('./models/stacking_model_with_params.pkl', test_x)\n",
    "sub['stacking_by_lgb'] = pre1"
   ]
  },
  {
   "cell_type": "markdown",
   "metadata": {},
   "source": [
    "# 2.基于lgb和xgb的stacking"
   ]
  },
  {
   "cell_type": "code",
   "execution_count": 9,
   "metadata": {},
   "outputs": [],
   "source": [
    "def predict_with_model(model_path, X):\n",
    "    \"\"\"使用保存的stacking模型进行预测\"\"\"\n",
    "    # 加载模型\n",
    "    with open(model_path, 'rb') as f:\n",
    "        stacking_model = pickle.load(f)\n",
    "    \n",
    "    base_models = stacking_model['base_models']\n",
    "    meta_model = stacking_model['meta_model']\n",
    "    \n",
    "    # 生成元特征\n",
    "    meta_features = np.zeros((X.shape[0], len(base_models)))\n",
    "    for i, model_info in enumerate(base_models):\n",
    "        model = model_info['model']\n",
    "        model_type = model_info['type']\n",
    "        \n",
    "        if model_type == 'lgb':\n",
    "            meta_features[:, i] = model.predict(X, num_iteration=model.best_iteration)\n",
    "        elif model_type == 'xgb':\n",
    "            dmatrix = xgb.DMatrix(X)\n",
    "            meta_features[:, i] = model.predict(dmatrix, ntree_limit=model.best_iteration)\n",
    "    \n",
    "    # 元模型预测\n",
    "    predictions = meta_model.predict(meta_features, num_iteration=meta_model.best_iteration)\n",
    "    print('预测成功！')\n",
    "    \n",
    "    return predictions\n",
    "\n"
   ]
  },
  {
   "cell_type": "code",
   "execution_count": 10,
   "metadata": {},
   "outputs": [
    {
     "name": "stdout",
     "output_type": "stream",
     "text": [
      "预测成功！\n"
     ]
    }
   ],
   "source": [
    "pre2 = predict_with_model('./models/stacking_model_mixed.pkl', test_x)\n",
    "sub['stacking_by_lgb_and_xgb'] = pre2"
   ]
  },
  {
   "cell_type": "markdown",
   "metadata": {},
   "source": [
    "# 3.基于lgb的十折交叉验证"
   ]
  },
  {
   "cell_type": "code",
   "execution_count": 11,
   "metadata": {},
   "outputs": [],
   "source": [
    "# 加载模型并对测试集进行预测\n",
    "def load_model_and_predict(model_path, test_data):\n",
    "    \"\"\"\n",
    "    加载保存的模型并对测试集进行预测\n",
    "    \n",
    "    参数:\n",
    "    model_path: 模型保存路径\n",
    "    test_data: 测试数据集（包含特征列）\n",
    "    features: 特征列名列表\n",
    "    \n",
    "    返回:\n",
    "    测试集预测概率\n",
    "    \"\"\"\n",
    "    # 加载模型\n",
    "    try:\n",
    "        with open(model_path, 'rb') as f:\n",
    "            model = pickle.load(f)\n",
    "        print(f\"模型加载成功: {model_path}\")\n",
    "    except Exception as e:\n",
    "        print(f\"模型加载失败: {str(e)}\")\n",
    "        return None\n",
    "\n",
    "    # 进行预测\n",
    "    test_pred = model.predict(test_x, num_iteration=model.best_iteration)\n",
    "    print('预测成功！')\n",
    "    \n",
    "    return test_pred"
   ]
  },
  {
   "cell_type": "code",
   "execution_count": 12,
   "metadata": {},
   "outputs": [
    {
     "name": "stdout",
     "output_type": "stream",
     "text": [
      "模型加载成功: ./models/lgb_10fold_model.pkl\n",
      "预测成功！\n"
     ]
    }
   ],
   "source": [
    "# 加载模型并预测\n",
    "model_path = './models/lgb_10fold_model.pkl'  # 模型保存路径\n",
    "pre3 = load_model_and_predict(model_path, test_x)\n",
    "    \n",
    "\n",
    "sub['lgb_10fold_pred'] = pre3"
   ]
  },
  {
   "cell_type": "markdown",
   "metadata": {},
   "source": [
    "# 4.基于xgb的十折交叉验证"
   ]
  },
  {
   "cell_type": "code",
   "execution_count": 13,
   "metadata": {},
   "outputs": [],
   "source": [
    "# 加载模型并对测试集进行预测\n",
    "def load_model_and_predict(model_path, test_data):\n",
    "    \"\"\"\n",
    "    加载保存的模型并对测试集进行预测\n",
    "    \n",
    "    参数:\n",
    "    model_path: 模型保存路径\n",
    "    test_data: 测试数据集（包含特征列）\n",
    "    features: 特征列名列表\n",
    "    \n",
    "    返回:\n",
    "    测试集预测概率\n",
    "    \"\"\"\n",
    "    # 加载模型\n",
    "    try:\n",
    "        with open(model_path, 'rb') as f:\n",
    "            model = pickle.load(f)\n",
    "        print(f\"模型加载成功: {model_path}\")\n",
    "    except Exception as e:\n",
    "        print(f\"模型加载失败: {str(e)}\")\n",
    "        return None\n",
    "    \n",
    "    dtest = xgb.DMatrix(test_data)\n",
    "    \n",
    "    # 进行预测\n",
    "    \n",
    "    test_pred = model.predict(dtest, ntree_limit=model.best_ntree_limit)\n",
    "    print('预测成功！')\n",
    "    return test_pred"
   ]
  },
  {
   "cell_type": "code",
   "execution_count": 14,
   "metadata": {},
   "outputs": [
    {
     "name": "stdout",
     "output_type": "stream",
     "text": [
      "模型加载成功: ./models/xgb_10fold_model.pkl\n",
      "预测成功！\n"
     ]
    }
   ],
   "source": [
    "# 加载模型并预测\n",
    "model_path = './models/xgb_10fold_model.pkl'  # 模型保存路径\n",
    "pre4 = load_model_and_predict(model_path, test_x)\n",
    "    \n",
    "sub['xgb_10fold_pred'] = pre4\n",
    "    "
   ]
  },
  {
   "cell_type": "code",
   "execution_count": 15,
   "metadata": {},
   "outputs": [
    {
     "data": {
      "text/html": [
       "<div>\n",
       "<style scoped>\n",
       "    .dataframe tbody tr th:only-of-type {\n",
       "        vertical-align: middle;\n",
       "    }\n",
       "\n",
       "    .dataframe tbody tr th {\n",
       "        vertical-align: top;\n",
       "    }\n",
       "\n",
       "    .dataframe thead th {\n",
       "        text-align: right;\n",
       "    }\n",
       "</style>\n",
       "<table border=\"1\" class=\"dataframe\">\n",
       "  <thead>\n",
       "    <tr style=\"text-align: right;\">\n",
       "      <th></th>\n",
       "      <th>ID</th>\n",
       "      <th>label</th>\n",
       "      <th>stacking_by_lgb</th>\n",
       "      <th>stacking_by_lgb_and_xgb</th>\n",
       "      <th>lgb_10fold_pred</th>\n",
       "      <th>xgb_10fold_pred</th>\n",
       "    </tr>\n",
       "  </thead>\n",
       "  <tbody>\n",
       "    <tr>\n",
       "      <th>0</th>\n",
       "      <td>1</td>\n",
       "      <td>0.1</td>\n",
       "      <td>0.662789</td>\n",
       "      <td>0.299682</td>\n",
       "      <td>0.137528</td>\n",
       "      <td>0.139409</td>\n",
       "    </tr>\n",
       "    <tr>\n",
       "      <th>1</th>\n",
       "      <td>4</td>\n",
       "      <td>0.1</td>\n",
       "      <td>0.092998</td>\n",
       "      <td>0.112200</td>\n",
       "      <td>0.223504</td>\n",
       "      <td>0.138446</td>\n",
       "    </tr>\n",
       "    <tr>\n",
       "      <th>2</th>\n",
       "      <td>6</td>\n",
       "      <td>0.1</td>\n",
       "      <td>0.257431</td>\n",
       "      <td>0.218318</td>\n",
       "      <td>0.212645</td>\n",
       "      <td>0.230363</td>\n",
       "    </tr>\n",
       "    <tr>\n",
       "      <th>3</th>\n",
       "      <td>8</td>\n",
       "      <td>0.1</td>\n",
       "      <td>0.287891</td>\n",
       "      <td>0.309741</td>\n",
       "      <td>0.344971</td>\n",
       "      <td>0.336017</td>\n",
       "    </tr>\n",
       "    <tr>\n",
       "      <th>4</th>\n",
       "      <td>10</td>\n",
       "      <td>0.1</td>\n",
       "      <td>0.193517</td>\n",
       "      <td>0.187629</td>\n",
       "      <td>0.238918</td>\n",
       "      <td>0.217965</td>\n",
       "    </tr>\n",
       "  </tbody>\n",
       "</table>\n",
       "</div>"
      ],
      "text/plain": [
       "   ID  label  stacking_by_lgb  stacking_by_lgb_and_xgb  lgb_10fold_pred  \\\n",
       "0   1    0.1         0.662789                 0.299682         0.137528   \n",
       "1   4    0.1         0.092998                 0.112200         0.223504   \n",
       "2   6    0.1         0.257431                 0.218318         0.212645   \n",
       "3   8    0.1         0.287891                 0.309741         0.344971   \n",
       "4  10    0.1         0.193517                 0.187629         0.238918   \n",
       "\n",
       "   xgb_10fold_pred  \n",
       "0         0.139409  \n",
       "1         0.138446  \n",
       "2         0.230363  \n",
       "3         0.336017  \n",
       "4         0.217965  "
      ]
     },
     "execution_count": 15,
     "metadata": {},
     "output_type": "execute_result"
    }
   ],
   "source": [
    "sub.head()"
   ]
  },
  {
   "cell_type": "markdown",
   "metadata": {},
   "source": [
    "# 5.基于lgb和xgb的stacking （元模型逻辑回归）"
   ]
  },
  {
   "cell_type": "code",
   "execution_count": 16,
   "metadata": {},
   "outputs": [],
   "source": [
    "# 预测函数\n",
    "def predict_with_model(model_path, X):\n",
    "    with open(model_path, 'rb') as f:\n",
    "        stacking_model = pickle.load(f)\n",
    "    \n",
    "    base_models = stacking_model['base_models']\n",
    "    meta_model = stacking_model['meta_model']\n",
    "    scaler = stacking_model['scaler']  # 加载标准化器\n",
    "    \n",
    "    meta_features = np.zeros((X.shape[0], len(base_models)))\n",
    "    for i, model_info in enumerate(base_models):\n",
    "        model = model_info['model']\n",
    "        model_type = model_info['type']\n",
    "        \n",
    "        if model_type == 'lgb':\n",
    "            meta_features[:, i] = model.predict(X, num_iteration=model.best_iteration)\n",
    "        elif model_type == 'xgb':\n",
    "            dmatrix = xgb.DMatrix(X)\n",
    "            meta_features[:, i] = model.predict(dmatrix, ntree_limit=model.best_iteration)\n",
    "    \n",
    "    # 逻辑回归预测（标准化元特征）\n",
    "    meta_features_scaled = scaler.transform(meta_features)\n",
    "    predictions = meta_model.predict_proba(meta_features_scaled)[:, 1]  # 取正例概率\n",
    "    \n",
    "    return predictions"
   ]
  },
  {
   "cell_type": "code",
   "execution_count": 17,
   "metadata": {},
   "outputs": [],
   "source": [
    "# 执行预测\n",
    "pred5 = predict_with_model('./models/stacking_model_logistic.pkl', test_x)\n",
    "sub['stacking_by_lgb_and_xgb_logistic'] =pred5"
   ]
  },
  {
   "cell_type": "markdown",
   "metadata": {},
   "source": [
    "# 6.基于lgb的voting"
   ]
  },
  {
   "cell_type": "code",
   "execution_count": 18,
   "metadata": {},
   "outputs": [],
   "source": [
    "# 投票预测函数\n",
    "def voting_predict(models, X, voting_type='soft'):\n",
    "    \"\"\"\n",
    "    投票预测\n",
    "    voting_type: 'soft'为概率加权平均, 'hard'为多数表决\n",
    "    \"\"\"\n",
    "    # 转换X为DMatrix（如果是XGBoost需要）\n",
    "    xgb_X = xgb.DMatrix(X) if isinstance(X, pd.DataFrame) else xgb.DMatrix(X.values)\n",
    "    \n",
    "    if voting_type == 'hard':\n",
    "        # 硬投票：取多数类\n",
    "        predictions = []\n",
    "        for model_info in models:\n",
    "            model = model_info['model']\n",
    "            model_type = model_info['type']\n",
    "            \n",
    "            if model_type == 'lgb':\n",
    "                pred_proba = model.predict(X, num_iteration=model.best_iteration)\n",
    "            else:  # xgb\n",
    "                pred_proba = model.predict(xgb_X, ntree_limit=model.best_iteration)\n",
    "                \n",
    "            predictions.append((pred_proba >= 0.5).astype(int))\n",
    "        \n",
    "        predictions = np.array(predictions).T\n",
    "        final_pred = np.apply_along_axis(lambda x: np.bincount(x).argmax(), axis=1, arr=predictions)\n",
    "        return final_pred\n",
    "    else:\n",
    "        # 软投票：概率平均值\n",
    "        all_preds = []\n",
    "        for model_info in models:\n",
    "            model = model_info['model']\n",
    "            model_type = model_info['type']\n",
    "            \n",
    "            if model_type == 'lgb':\n",
    "                pred = model.predict(X, num_iteration=model.best_iteration)\n",
    "            else:  # xgb\n",
    "                pred = model.predict(xgb_X, ntree_limit=model.best_iteration)\n",
    "                \n",
    "            all_preds.append(pred)\n",
    "        \n",
    "        return np.mean(all_preds, axis=0)"
   ]
  },
  {
   "cell_type": "code",
   "execution_count": 19,
   "metadata": {},
   "outputs": [
    {
     "name": "stdout",
     "output_type": "stream",
     "text": [
      "预测成功\n"
     ]
    }
   ],
   "source": [
    "def predict_with_voting_model(model_path, X, voting_type='soft'):\n",
    "    with open(model_path, 'rb') as f:\n",
    "        voting_model = pickle.load(f)\n",
    "    \n",
    "    base_models = voting_model['base_models']\n",
    "    return voting_predict(base_models, X, voting_type)\n",
    "\n",
    "# 生成测试集预测结果\n",
    "pred6 = predict_with_voting_model('./models/voting_ensemble_model.pkl', test_x)\n",
    "print(\"预测成功\")"
   ]
  },
  {
   "cell_type": "code",
   "execution_count": 20,
   "metadata": {},
   "outputs": [],
   "source": [
    "# 生成提交文件\n",
    "sub['voting_by_lgb'] = pred6"
   ]
  },
  {
   "cell_type": "markdown",
   "metadata": {},
   "source": [
    "# 7. 基于xgb和lgb的voting"
   ]
  },
  {
   "cell_type": "code",
   "execution_count": 21,
   "metadata": {},
   "outputs": [],
   "source": [
    "# 投票预测函数\n",
    "def voting_predict(models, X, voting_type='soft'):\n",
    "    \"\"\"\n",
    "    投票预测\n",
    "    voting_type: 'soft'为概率加权平均, 'hard'为多数表决\n",
    "    \"\"\"\n",
    "    # 转换X为DMatrix（如果是XGBoost需要）\n",
    "    xgb_X = xgb.DMatrix(X) if isinstance(X, pd.DataFrame) else xgb.DMatrix(X.values)\n",
    "    \n",
    "    if voting_type == 'hard':\n",
    "        # 硬投票：取多数类\n",
    "        predictions = []\n",
    "        for model_info in models:\n",
    "            model = model_info['model']\n",
    "            model_type = model_info['type']\n",
    "            \n",
    "            if model_type == 'lgb':\n",
    "                pred_proba = model.predict(X, num_iteration=model.best_iteration)\n",
    "            else:  # xgb\n",
    "                pred_proba = model.predict(xgb_X, ntree_limit=model.best_iteration)\n",
    "                \n",
    "            predictions.append((pred_proba >= 0.5).astype(int))\n",
    "        \n",
    "        predictions = np.array(predictions).T\n",
    "        final_pred = np.apply_along_axis(lambda x: np.bincount(x).argmax(), axis=1, arr=predictions)\n",
    "        return final_pred\n",
    "    else:\n",
    "        # 软投票：概率平均值\n",
    "        all_preds = []\n",
    "        for model_info in models:\n",
    "            model = model_info['model']\n",
    "            model_type = model_info['type']\n",
    "            \n",
    "            if model_type == 'lgb':\n",
    "                pred = model.predict(X, num_iteration=model.best_iteration)\n",
    "            else:  # xgb\n",
    "                pred = model.predict(xgb_X, ntree_limit=model.best_iteration)\n",
    "                \n",
    "            all_preds.append(pred)\n",
    "        \n",
    "        return np.mean(all_preds, axis=0)"
   ]
  },
  {
   "cell_type": "code",
   "execution_count": 22,
   "metadata": {},
   "outputs": [
    {
     "name": "stdout",
     "output_type": "stream",
     "text": [
      "预测成功！\n"
     ]
    }
   ],
   "source": [
    "# 加载模型并预测\n",
    "def predict_with_voting_model(model_path, X, voting_type='soft'):\n",
    "    with open(model_path, 'rb') as f:\n",
    "        voting_model = pickle.load(f)\n",
    "    \n",
    "    base_models = voting_model['base_models']\n",
    "    return voting_predict(base_models, X, voting_type)\n",
    "\n",
    "# 生成测试集预测结果\n",
    "pred7 = predict_with_voting_model('./models/voting_ensemble_model.pkl', test_x)\n",
    "print(\"预测成功！\")\n",
    "\n",
    "# 生成提交文件\n",
    "sub['voting_by_lgb_and_xgb'] = pred7"
   ]
  },
  {
   "cell_type": "code",
   "execution_count": 23,
   "metadata": {},
   "outputs": [
    {
     "data": {
      "text/html": [
       "<div>\n",
       "<style scoped>\n",
       "    .dataframe tbody tr th:only-of-type {\n",
       "        vertical-align: middle;\n",
       "    }\n",
       "\n",
       "    .dataframe tbody tr th {\n",
       "        vertical-align: top;\n",
       "    }\n",
       "\n",
       "    .dataframe thead th {\n",
       "        text-align: right;\n",
       "    }\n",
       "</style>\n",
       "<table border=\"1\" class=\"dataframe\">\n",
       "  <thead>\n",
       "    <tr style=\"text-align: right;\">\n",
       "      <th></th>\n",
       "      <th>ID</th>\n",
       "      <th>label</th>\n",
       "      <th>stacking_by_lgb</th>\n",
       "      <th>stacking_by_lgb_and_xgb</th>\n",
       "      <th>lgb_10fold_pred</th>\n",
       "      <th>xgb_10fold_pred</th>\n",
       "      <th>stacking_by_lgb_and_xgb_logistic</th>\n",
       "      <th>voting_by_lgb</th>\n",
       "      <th>voting_by_lgb_and_xgb</th>\n",
       "    </tr>\n",
       "  </thead>\n",
       "  <tbody>\n",
       "    <tr>\n",
       "      <th>0</th>\n",
       "      <td>1</td>\n",
       "      <td>0.1</td>\n",
       "      <td>0.662789</td>\n",
       "      <td>0.299682</td>\n",
       "      <td>0.137528</td>\n",
       "      <td>0.139409</td>\n",
       "      <td>0.140260</td>\n",
       "      <td>0.232942</td>\n",
       "      <td>0.232942</td>\n",
       "    </tr>\n",
       "    <tr>\n",
       "      <th>1</th>\n",
       "      <td>4</td>\n",
       "      <td>0.1</td>\n",
       "      <td>0.092998</td>\n",
       "      <td>0.112200</td>\n",
       "      <td>0.223504</td>\n",
       "      <td>0.138446</td>\n",
       "      <td>0.314672</td>\n",
       "      <td>0.151084</td>\n",
       "      <td>0.151084</td>\n",
       "    </tr>\n",
       "    <tr>\n",
       "      <th>2</th>\n",
       "      <td>6</td>\n",
       "      <td>0.1</td>\n",
       "      <td>0.257431</td>\n",
       "      <td>0.218318</td>\n",
       "      <td>0.212645</td>\n",
       "      <td>0.230363</td>\n",
       "      <td>0.564087</td>\n",
       "      <td>0.233898</td>\n",
       "      <td>0.233898</td>\n",
       "    </tr>\n",
       "    <tr>\n",
       "      <th>3</th>\n",
       "      <td>8</td>\n",
       "      <td>0.1</td>\n",
       "      <td>0.287891</td>\n",
       "      <td>0.309741</td>\n",
       "      <td>0.344971</td>\n",
       "      <td>0.336017</td>\n",
       "      <td>0.635625</td>\n",
       "      <td>0.347767</td>\n",
       "      <td>0.347767</td>\n",
       "    </tr>\n",
       "    <tr>\n",
       "      <th>4</th>\n",
       "      <td>10</td>\n",
       "      <td>0.1</td>\n",
       "      <td>0.193517</td>\n",
       "      <td>0.187629</td>\n",
       "      <td>0.238918</td>\n",
       "      <td>0.217965</td>\n",
       "      <td>0.477566</td>\n",
       "      <td>0.204013</td>\n",
       "      <td>0.204013</td>\n",
       "    </tr>\n",
       "  </tbody>\n",
       "</table>\n",
       "</div>"
      ],
      "text/plain": [
       "   ID  label  stacking_by_lgb  stacking_by_lgb_and_xgb  lgb_10fold_pred  \\\n",
       "0   1    0.1         0.662789                 0.299682         0.137528   \n",
       "1   4    0.1         0.092998                 0.112200         0.223504   \n",
       "2   6    0.1         0.257431                 0.218318         0.212645   \n",
       "3   8    0.1         0.287891                 0.309741         0.344971   \n",
       "4  10    0.1         0.193517                 0.187629         0.238918   \n",
       "\n",
       "   xgb_10fold_pred  stacking_by_lgb_and_xgb_logistic  voting_by_lgb  \\\n",
       "0         0.139409                          0.140260       0.232942   \n",
       "1         0.138446                          0.314672       0.151084   \n",
       "2         0.230363                          0.564087       0.233898   \n",
       "3         0.336017                          0.635625       0.347767   \n",
       "4         0.217965                          0.477566       0.204013   \n",
       "\n",
       "   voting_by_lgb_and_xgb  \n",
       "0               0.232942  \n",
       "1               0.151084  \n",
       "2               0.233898  \n",
       "3               0.347767  \n",
       "4               0.204013  "
      ]
     },
     "execution_count": 23,
     "metadata": {},
     "output_type": "execute_result"
    }
   ],
   "source": [
    "sub.head()"
   ]
  },
  {
   "cell_type": "code",
   "execution_count": 24,
   "metadata": {},
   "outputs": [],
   "source": [
    "sub = sub.drop(columns = ['label'])"
   ]
  },
  {
   "cell_type": "code",
   "execution_count": 25,
   "metadata": {},
   "outputs": [
    {
     "data": {
      "text/plain": [
       "(40000, 8)"
      ]
     },
     "execution_count": 25,
     "metadata": {},
     "output_type": "execute_result"
    }
   ],
   "source": [
    "sub.shape"
   ]
  },
  {
   "cell_type": "code",
   "execution_count": 26,
   "metadata": {},
   "outputs": [],
   "source": [
    "list_co = list(sub.columns[1:])"
   ]
  },
  {
   "cell_type": "code",
   "execution_count": 27,
   "metadata": {},
   "outputs": [
    {
     "data": {
      "text/plain": [
       "['stacking_by_lgb',\n",
       " 'stacking_by_lgb_and_xgb',\n",
       " 'lgb_10fold_pred',\n",
       " 'xgb_10fold_pred',\n",
       " 'stacking_by_lgb_and_xgb_logistic',\n",
       " 'voting_by_lgb',\n",
       " 'voting_by_lgb_and_xgb']"
      ]
     },
     "execution_count": 27,
     "metadata": {},
     "output_type": "execute_result"
    }
   ],
   "source": [
    "list_co"
   ]
  },
  {
   "cell_type": "code",
   "execution_count": null,
   "metadata": {},
   "outputs": [],
   "source": []
  },
  {
   "cell_type": "markdown",
   "metadata": {},
   "source": [
    "### 各模型的阈值(依模型调整) //方案一"
   ]
  },
  {
   "cell_type": "code",
   "execution_count": 28,
   "metadata": {},
   "outputs": [],
   "source": [
    "sub1 = sub.copy()"
   ]
  },
  {
   "cell_type": "code",
   "execution_count": 29,
   "metadata": {},
   "outputs": [],
   "source": [
    "#测试阈值\n",
    "threshold = {'1':0.5,\n",
    "             '2':0.5,\n",
    "             '3':0.5,\n",
    "             '4':0.5,\n",
    "             '5':0.5,\n",
    "             '6':0.5,\n",
    "             '7':0.5\n",
    "            }"
   ]
  },
  {
   "cell_type": "code",
   "execution_count": 30,
   "metadata": {},
   "outputs": [],
   "source": [
    "for idx,co in enumerate(list_co,1):\n",
    "    sub1[co] = sub[co].apply(lambda x:1 if x>threshold[str(idx)] else 0)"
   ]
  },
  {
   "cell_type": "code",
   "execution_count": 31,
   "metadata": {},
   "outputs": [
    {
     "data": {
      "text/html": [
       "<div>\n",
       "<style scoped>\n",
       "    .dataframe tbody tr th:only-of-type {\n",
       "        vertical-align: middle;\n",
       "    }\n",
       "\n",
       "    .dataframe tbody tr th {\n",
       "        vertical-align: top;\n",
       "    }\n",
       "\n",
       "    .dataframe thead th {\n",
       "        text-align: right;\n",
       "    }\n",
       "</style>\n",
       "<table border=\"1\" class=\"dataframe\">\n",
       "  <thead>\n",
       "    <tr style=\"text-align: right;\">\n",
       "      <th></th>\n",
       "      <th>ID</th>\n",
       "      <th>stacking_by_lgb</th>\n",
       "      <th>stacking_by_lgb_and_xgb</th>\n",
       "      <th>lgb_10fold_pred</th>\n",
       "      <th>xgb_10fold_pred</th>\n",
       "      <th>stacking_by_lgb_and_xgb_logistic</th>\n",
       "      <th>voting_by_lgb</th>\n",
       "      <th>voting_by_lgb_and_xgb</th>\n",
       "    </tr>\n",
       "  </thead>\n",
       "  <tbody>\n",
       "    <tr>\n",
       "      <th>0</th>\n",
       "      <td>1</td>\n",
       "      <td>1</td>\n",
       "      <td>0</td>\n",
       "      <td>0</td>\n",
       "      <td>0</td>\n",
       "      <td>0</td>\n",
       "      <td>0</td>\n",
       "      <td>0</td>\n",
       "    </tr>\n",
       "    <tr>\n",
       "      <th>1</th>\n",
       "      <td>4</td>\n",
       "      <td>0</td>\n",
       "      <td>0</td>\n",
       "      <td>0</td>\n",
       "      <td>0</td>\n",
       "      <td>0</td>\n",
       "      <td>0</td>\n",
       "      <td>0</td>\n",
       "    </tr>\n",
       "    <tr>\n",
       "      <th>2</th>\n",
       "      <td>6</td>\n",
       "      <td>0</td>\n",
       "      <td>0</td>\n",
       "      <td>0</td>\n",
       "      <td>0</td>\n",
       "      <td>1</td>\n",
       "      <td>0</td>\n",
       "      <td>0</td>\n",
       "    </tr>\n",
       "    <tr>\n",
       "      <th>3</th>\n",
       "      <td>8</td>\n",
       "      <td>0</td>\n",
       "      <td>0</td>\n",
       "      <td>0</td>\n",
       "      <td>0</td>\n",
       "      <td>1</td>\n",
       "      <td>0</td>\n",
       "      <td>0</td>\n",
       "    </tr>\n",
       "    <tr>\n",
       "      <th>4</th>\n",
       "      <td>10</td>\n",
       "      <td>0</td>\n",
       "      <td>0</td>\n",
       "      <td>0</td>\n",
       "      <td>0</td>\n",
       "      <td>0</td>\n",
       "      <td>0</td>\n",
       "      <td>0</td>\n",
       "    </tr>\n",
       "  </tbody>\n",
       "</table>\n",
       "</div>"
      ],
      "text/plain": [
       "   ID  stacking_by_lgb  stacking_by_lgb_and_xgb  lgb_10fold_pred  \\\n",
       "0   1                1                        0                0   \n",
       "1   4                0                        0                0   \n",
       "2   6                0                        0                0   \n",
       "3   8                0                        0                0   \n",
       "4  10                0                        0                0   \n",
       "\n",
       "   xgb_10fold_pred  stacking_by_lgb_and_xgb_logistic  voting_by_lgb  \\\n",
       "0                0                                 0              0   \n",
       "1                0                                 0              0   \n",
       "2                0                                 1              0   \n",
       "3                0                                 1              0   \n",
       "4                0                                 0              0   \n",
       "\n",
       "   voting_by_lgb_and_xgb  \n",
       "0                      0  \n",
       "1                      0  \n",
       "2                      0  \n",
       "3                      0  \n",
       "4                      0  "
      ]
     },
     "execution_count": 31,
     "metadata": {},
     "output_type": "execute_result"
    }
   ],
   "source": [
    "sub1.head()"
   ]
  },
  {
   "cell_type": "markdown",
   "metadata": {},
   "source": [
    "### 投票"
   ]
  },
  {
   "cell_type": "code",
   "execution_count": 32,
   "metadata": {},
   "outputs": [],
   "source": [
    "sub1['label'] = sub1.iloc[:,1:].mode(axis = 1)"
   ]
  },
  {
   "cell_type": "code",
   "execution_count": 33,
   "metadata": {},
   "outputs": [],
   "source": [
    "sub1 = sub1[['ID','label']]"
   ]
  },
  {
   "cell_type": "code",
   "execution_count": 34,
   "metadata": {},
   "outputs": [],
   "source": [
    "sub1.to_csv('./result/sub_by_voting.csv',index = False)"
   ]
  },
  {
   "cell_type": "code",
   "execution_count": 35,
   "metadata": {},
   "outputs": [
    {
     "data": {
      "text/html": [
       "<div>\n",
       "<style scoped>\n",
       "    .dataframe tbody tr th:only-of-type {\n",
       "        vertical-align: middle;\n",
       "    }\n",
       "\n",
       "    .dataframe tbody tr th {\n",
       "        vertical-align: top;\n",
       "    }\n",
       "\n",
       "    .dataframe thead th {\n",
       "        text-align: right;\n",
       "    }\n",
       "</style>\n",
       "<table border=\"1\" class=\"dataframe\">\n",
       "  <thead>\n",
       "    <tr style=\"text-align: right;\">\n",
       "      <th></th>\n",
       "      <th>ID</th>\n",
       "      <th>label</th>\n",
       "    </tr>\n",
       "  </thead>\n",
       "  <tbody>\n",
       "    <tr>\n",
       "      <th>0</th>\n",
       "      <td>1</td>\n",
       "      <td>0</td>\n",
       "    </tr>\n",
       "    <tr>\n",
       "      <th>1</th>\n",
       "      <td>4</td>\n",
       "      <td>0</td>\n",
       "    </tr>\n",
       "    <tr>\n",
       "      <th>2</th>\n",
       "      <td>6</td>\n",
       "      <td>0</td>\n",
       "    </tr>\n",
       "    <tr>\n",
       "      <th>3</th>\n",
       "      <td>8</td>\n",
       "      <td>0</td>\n",
       "    </tr>\n",
       "    <tr>\n",
       "      <th>4</th>\n",
       "      <td>10</td>\n",
       "      <td>0</td>\n",
       "    </tr>\n",
       "  </tbody>\n",
       "</table>\n",
       "</div>"
      ],
      "text/plain": [
       "   ID  label\n",
       "0   1      0\n",
       "1   4      0\n",
       "2   6      0\n",
       "3   8      0\n",
       "4  10      0"
      ]
     },
     "execution_count": 35,
     "metadata": {},
     "output_type": "execute_result"
    }
   ],
   "source": [
    "sub1.head()"
   ]
  },
  {
   "cell_type": "markdown",
   "metadata": {},
   "source": [
    "### 各模型的auc(依模型调整) //方案二"
   ]
  },
  {
   "cell_type": "code",
   "execution_count": 36,
   "metadata": {},
   "outputs": [],
   "source": [
    "#测试阈值\n",
    "auc_score = {'1':0.1,\n",
    "             '2':0.6,\n",
    "             '3':0.5,\n",
    "             '4':0.4,\n",
    "             '5':0.2,\n",
    "             '6':0.9,\n",
    "             '7':0.3\n",
    "            }"
   ]
  },
  {
   "cell_type": "code",
   "execution_count": 37,
   "metadata": {},
   "outputs": [],
   "source": [
    "sum_auc_score = 0\n",
    "for i in range(1,8):\n",
    "    sum_auc_score +=auc_score[str(i)]"
   ]
  },
  {
   "cell_type": "code",
   "execution_count": 38,
   "metadata": {},
   "outputs": [],
   "source": [
    "auc_weight = [auc_score[str(i)]/sum_auc_score for i in range(1,8)]"
   ]
  },
  {
   "cell_type": "code",
   "execution_count": 39,
   "metadata": {},
   "outputs": [],
   "source": [
    "sub2 = sub.copy()"
   ]
  },
  {
   "cell_type": "code",
   "execution_count": 40,
   "metadata": {},
   "outputs": [],
   "source": [
    "sub2['label'] = 0"
   ]
  },
  {
   "cell_type": "code",
   "execution_count": 41,
   "metadata": {},
   "outputs": [],
   "source": [
    "for idx,co in enumerate(list_co,1):\n",
    "    sub2['label'] += auc_weight[idx-1]*sub[co]"
   ]
  },
  {
   "cell_type": "code",
   "execution_count": 42,
   "metadata": {},
   "outputs": [],
   "source": [
    "sub2 = sub2[['ID','label']]"
   ]
  },
  {
   "cell_type": "code",
   "execution_count": 43,
   "metadata": {},
   "outputs": [],
   "source": [
    "sub2['label'] = sub2['label'].apply(lambda x:'%.4f'%x)"
   ]
  },
  {
   "cell_type": "code",
   "execution_count": 44,
   "metadata": {},
   "outputs": [],
   "source": [
    "sub2 = sub2.sort_values(by = 'label',ascending = False)"
   ]
  },
  {
   "cell_type": "code",
   "execution_count": 45,
   "metadata": {},
   "outputs": [],
   "source": [
    "sub2.to_csv('./result/sub_by_auc.csv', index = False)"
   ]
  },
  {
   "cell_type": "markdown",
   "metadata": {},
   "source": [
    "### 各模型的F1(依模型调整) //方案三"
   ]
  },
  {
   "cell_type": "code",
   "execution_count": 70,
   "metadata": {},
   "outputs": [],
   "source": [
    "#测试阈值\n",
    "F1_score =  {'1':0.8,\n",
    "             '2':0.5,\n",
    "             '3':0.5,\n",
    "             '4':0.2,\n",
    "             '5':0.5,\n",
    "             '6':0.5,\n",
    "             '7':0.1\n",
    "            }"
   ]
  },
  {
   "cell_type": "code",
   "execution_count": 71,
   "metadata": {},
   "outputs": [],
   "source": [
    "sum_F1_score = 0\n",
    "for i in range(1,8):\n",
    "    sum_F1_score +=F1_score[str(i)]"
   ]
  },
  {
   "cell_type": "code",
   "execution_count": 72,
   "metadata": {},
   "outputs": [],
   "source": [
    "F1_weight = [F1_score[str(i)]/sum_F1_score for i in range(1,8)]"
   ]
  },
  {
   "cell_type": "code",
   "execution_count": 73,
   "metadata": {},
   "outputs": [],
   "source": [
    "sub3 = sub.copy()"
   ]
  },
  {
   "cell_type": "code",
   "execution_count": 74,
   "metadata": {},
   "outputs": [],
   "source": [
    "sub3['label'] = 0"
   ]
  },
  {
   "cell_type": "code",
   "execution_count": 75,
   "metadata": {},
   "outputs": [],
   "source": [
    "for idx,co in enumerate(list_co,1):\n",
    "    sub3['label'] += F1_weight[idx-1]*sub[co]"
   ]
  },
  {
   "cell_type": "code",
   "execution_count": 76,
   "metadata": {},
   "outputs": [],
   "source": [
    "sub3 = sub3[['ID','label']]"
   ]
  },
  {
   "cell_type": "code",
   "execution_count": 77,
   "metadata": {},
   "outputs": [],
   "source": [
    "sub3['label'] = sub3['label'].apply(lambda x:'%.4f'%x)"
   ]
  },
  {
   "cell_type": "code",
   "execution_count": 78,
   "metadata": {},
   "outputs": [],
   "source": [
    "sub3 = sub3.sort_values(by = 'label',ascending = False)"
   ]
  },
  {
   "cell_type": "code",
   "execution_count": 79,
   "metadata": {},
   "outputs": [],
   "source": [
    "sub3.to_csv('./result/sub_by_f1.csv', index = False)"
   ]
  },
  {
   "cell_type": "markdown",
   "metadata": {},
   "source": [
    "### 各模型的Ks(依模型调整) //方案四"
   ]
  },
  {
   "cell_type": "code",
   "execution_count": 94,
   "metadata": {},
   "outputs": [],
   "source": [
    "#测试阈值\n",
    "Ks_score =  {'1':0.8,\n",
    "             '2':0.3,\n",
    "             '3':0.5,\n",
    "             '4':0.2,\n",
    "             '5':0.5,\n",
    "             '6':0.9,\n",
    "             '7':0.8\n",
    "            }"
   ]
  },
  {
   "cell_type": "code",
   "execution_count": 95,
   "metadata": {},
   "outputs": [],
   "source": [
    "sum_Ks_score = 0\n",
    "for i in range(1,8):\n",
    "    sum_Ks_score +=Ks_score[str(i)]"
   ]
  },
  {
   "cell_type": "code",
   "execution_count": 96,
   "metadata": {},
   "outputs": [],
   "source": [
    "Ks_weight = [Ks_score[str(i)]/sum_Ks_score for i in range(1,8)]"
   ]
  },
  {
   "cell_type": "code",
   "execution_count": 97,
   "metadata": {},
   "outputs": [],
   "source": [
    "sub4 = sub.copy()"
   ]
  },
  {
   "cell_type": "code",
   "execution_count": 98,
   "metadata": {},
   "outputs": [],
   "source": [
    "sub4['label'] = 0"
   ]
  },
  {
   "cell_type": "code",
   "execution_count": 99,
   "metadata": {},
   "outputs": [],
   "source": [
    "for idx,co in enumerate(list_co,1):\n",
    "    sub4['label'] += Ks_weight[idx-1]*sub[co]"
   ]
  },
  {
   "cell_type": "code",
   "execution_count": 100,
   "metadata": {},
   "outputs": [],
   "source": [
    "sub4 = sub4[['ID','label']]"
   ]
  },
  {
   "cell_type": "code",
   "execution_count": 101,
   "metadata": {},
   "outputs": [],
   "source": [
    "sub4['label'] = sub4['label'].apply(lambda x:'%.4f'%x)"
   ]
  },
  {
   "cell_type": "code",
   "execution_count": 102,
   "metadata": {},
   "outputs": [],
   "source": [
    "sub4 = sub4.sort_values(by = 'label',ascending = False)"
   ]
  },
  {
   "cell_type": "code",
   "execution_count": 103,
   "metadata": {},
   "outputs": [],
   "source": [
    "sub4.to_csv('./result/sub_by_ks.csv', index = False)"
   ]
  },
  {
   "cell_type": "code",
   "execution_count": null,
   "metadata": {},
   "outputs": [],
   "source": []
  },
  {
   "cell_type": "code",
   "execution_count": 104,
   "metadata": {},
   "outputs": [
    {
     "data": {
      "text/html": [
       "<div>\n",
       "<style scoped>\n",
       "    .dataframe tbody tr th:only-of-type {\n",
       "        vertical-align: middle;\n",
       "    }\n",
       "\n",
       "    .dataframe tbody tr th {\n",
       "        vertical-align: top;\n",
       "    }\n",
       "\n",
       "    .dataframe thead th {\n",
       "        text-align: right;\n",
       "    }\n",
       "</style>\n",
       "<table border=\"1\" class=\"dataframe\">\n",
       "  <thead>\n",
       "    <tr style=\"text-align: right;\">\n",
       "      <th></th>\n",
       "      <th>ID</th>\n",
       "      <th>label</th>\n",
       "    </tr>\n",
       "  </thead>\n",
       "  <tbody>\n",
       "    <tr>\n",
       "      <th>0</th>\n",
       "      <td>1</td>\n",
       "      <td>0</td>\n",
       "    </tr>\n",
       "    <tr>\n",
       "      <th>1</th>\n",
       "      <td>4</td>\n",
       "      <td>0</td>\n",
       "    </tr>\n",
       "    <tr>\n",
       "      <th>2</th>\n",
       "      <td>6</td>\n",
       "      <td>0</td>\n",
       "    </tr>\n",
       "    <tr>\n",
       "      <th>3</th>\n",
       "      <td>8</td>\n",
       "      <td>0</td>\n",
       "    </tr>\n",
       "    <tr>\n",
       "      <th>4</th>\n",
       "      <td>10</td>\n",
       "      <td>0</td>\n",
       "    </tr>\n",
       "  </tbody>\n",
       "</table>\n",
       "</div>"
      ],
      "text/plain": [
       "   ID  label\n",
       "0   1      0\n",
       "1   4      0\n",
       "2   6      0\n",
       "3   8      0\n",
       "4  10      0"
      ]
     },
     "execution_count": 104,
     "metadata": {},
     "output_type": "execute_result"
    }
   ],
   "source": [
    "sub1.head()"
   ]
  },
  {
   "cell_type": "code",
   "execution_count": 105,
   "metadata": {},
   "outputs": [
    {
     "data": {
      "text/html": [
       "<div>\n",
       "<style scoped>\n",
       "    .dataframe tbody tr th:only-of-type {\n",
       "        vertical-align: middle;\n",
       "    }\n",
       "\n",
       "    .dataframe tbody tr th {\n",
       "        vertical-align: top;\n",
       "    }\n",
       "\n",
       "    .dataframe thead th {\n",
       "        text-align: right;\n",
       "    }\n",
       "</style>\n",
       "<table border=\"1\" class=\"dataframe\">\n",
       "  <thead>\n",
       "    <tr style=\"text-align: right;\">\n",
       "      <th></th>\n",
       "      <th>ID</th>\n",
       "      <th>label</th>\n",
       "    </tr>\n",
       "  </thead>\n",
       "  <tbody>\n",
       "    <tr>\n",
       "      <th>21997</th>\n",
       "      <td>54863</td>\n",
       "      <td>0.8605</td>\n",
       "    </tr>\n",
       "    <tr>\n",
       "      <th>24327</th>\n",
       "      <td>60770</td>\n",
       "      <td>0.8435</td>\n",
       "    </tr>\n",
       "    <tr>\n",
       "      <th>34848</th>\n",
       "      <td>87143</td>\n",
       "      <td>0.8423</td>\n",
       "    </tr>\n",
       "    <tr>\n",
       "      <th>37932</th>\n",
       "      <td>94798</td>\n",
       "      <td>0.8326</td>\n",
       "    </tr>\n",
       "    <tr>\n",
       "      <th>34130</th>\n",
       "      <td>85377</td>\n",
       "      <td>0.8280</td>\n",
       "    </tr>\n",
       "  </tbody>\n",
       "</table>\n",
       "</div>"
      ],
      "text/plain": [
       "          ID   label\n",
       "21997  54863  0.8605\n",
       "24327  60770  0.8435\n",
       "34848  87143  0.8423\n",
       "37932  94798  0.8326\n",
       "34130  85377  0.8280"
      ]
     },
     "execution_count": 105,
     "metadata": {},
     "output_type": "execute_result"
    }
   ],
   "source": [
    "sub2.head()"
   ]
  },
  {
   "cell_type": "code",
   "execution_count": 106,
   "metadata": {},
   "outputs": [
    {
     "data": {
      "text/html": [
       "<div>\n",
       "<style scoped>\n",
       "    .dataframe tbody tr th:only-of-type {\n",
       "        vertical-align: middle;\n",
       "    }\n",
       "\n",
       "    .dataframe tbody tr th {\n",
       "        vertical-align: top;\n",
       "    }\n",
       "\n",
       "    .dataframe thead th {\n",
       "        text-align: right;\n",
       "    }\n",
       "</style>\n",
       "<table border=\"1\" class=\"dataframe\">\n",
       "  <thead>\n",
       "    <tr style=\"text-align: right;\">\n",
       "      <th></th>\n",
       "      <th>ID</th>\n",
       "      <th>label</th>\n",
       "    </tr>\n",
       "  </thead>\n",
       "  <tbody>\n",
       "    <tr>\n",
       "      <th>21997</th>\n",
       "      <td>54863</td>\n",
       "      <td>0.8665</td>\n",
       "    </tr>\n",
       "    <tr>\n",
       "      <th>34848</th>\n",
       "      <td>87143</td>\n",
       "      <td>0.8566</td>\n",
       "    </tr>\n",
       "    <tr>\n",
       "      <th>24327</th>\n",
       "      <td>60770</td>\n",
       "      <td>0.8550</td>\n",
       "    </tr>\n",
       "    <tr>\n",
       "      <th>37932</th>\n",
       "      <td>94798</td>\n",
       "      <td>0.8499</td>\n",
       "    </tr>\n",
       "    <tr>\n",
       "      <th>34130</th>\n",
       "      <td>85377</td>\n",
       "      <td>0.8417</td>\n",
       "    </tr>\n",
       "  </tbody>\n",
       "</table>\n",
       "</div>"
      ],
      "text/plain": [
       "          ID   label\n",
       "21997  54863  0.8665\n",
       "34848  87143  0.8566\n",
       "24327  60770  0.8550\n",
       "37932  94798  0.8499\n",
       "34130  85377  0.8417"
      ]
     },
     "execution_count": 106,
     "metadata": {},
     "output_type": "execute_result"
    }
   ],
   "source": [
    "sub3.head()"
   ]
  },
  {
   "cell_type": "code",
   "execution_count": 107,
   "metadata": {},
   "outputs": [
    {
     "data": {
      "text/html": [
       "<div>\n",
       "<style scoped>\n",
       "    .dataframe tbody tr th:only-of-type {\n",
       "        vertical-align: middle;\n",
       "    }\n",
       "\n",
       "    .dataframe tbody tr th {\n",
       "        vertical-align: top;\n",
       "    }\n",
       "\n",
       "    .dataframe thead th {\n",
       "        text-align: right;\n",
       "    }\n",
       "</style>\n",
       "<table border=\"1\" class=\"dataframe\">\n",
       "  <thead>\n",
       "    <tr style=\"text-align: right;\">\n",
       "      <th></th>\n",
       "      <th>ID</th>\n",
       "      <th>label</th>\n",
       "    </tr>\n",
       "  </thead>\n",
       "  <tbody>\n",
       "    <tr>\n",
       "      <th>21997</th>\n",
       "      <td>54863</td>\n",
       "      <td>0.8636</td>\n",
       "    </tr>\n",
       "    <tr>\n",
       "      <th>34848</th>\n",
       "      <td>87143</td>\n",
       "      <td>0.8499</td>\n",
       "    </tr>\n",
       "    <tr>\n",
       "      <th>24327</th>\n",
       "      <td>60770</td>\n",
       "      <td>0.8456</td>\n",
       "    </tr>\n",
       "    <tr>\n",
       "      <th>37932</th>\n",
       "      <td>94798</td>\n",
       "      <td>0.8382</td>\n",
       "    </tr>\n",
       "    <tr>\n",
       "      <th>34130</th>\n",
       "      <td>85377</td>\n",
       "      <td>0.8374</td>\n",
       "    </tr>\n",
       "  </tbody>\n",
       "</table>\n",
       "</div>"
      ],
      "text/plain": [
       "          ID   label\n",
       "21997  54863  0.8636\n",
       "34848  87143  0.8499\n",
       "24327  60770  0.8456\n",
       "37932  94798  0.8382\n",
       "34130  85377  0.8374"
      ]
     },
     "execution_count": 107,
     "metadata": {},
     "output_type": "execute_result"
    }
   ],
   "source": [
    "sub4.head()"
   ]
  },
  {
   "cell_type": "code",
   "execution_count": null,
   "metadata": {},
   "outputs": [],
   "source": []
  },
  {
   "cell_type": "code",
   "execution_count": null,
   "metadata": {},
   "outputs": [],
   "source": []
  }
 ],
 "metadata": {
  "kernelspec": {
   "display_name": "Python 3",
   "language": "python",
   "name": "python3"
  },
  "language_info": {
   "codemirror_mode": {
    "name": "ipython",
    "version": 3
   },
   "file_extension": ".py",
   "mimetype": "text/x-python",
   "name": "python",
   "nbconvert_exporter": "python",
   "pygments_lexer": "ipython3",
   "version": "3.7.0"
  }
 },
 "nbformat": 4,
 "nbformat_minor": 2
}
